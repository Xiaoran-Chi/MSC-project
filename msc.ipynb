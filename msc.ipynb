{
 "cells": [
  {
   "cell_type": "code",
   "execution_count": 1,
   "metadata": {
    "colab": {
     "base_uri": "https://localhost:8080/"
    },
    "id": "P18GBhN3g9R4",
    "outputId": "3e2b2773-5325-4b73-803c-32fb764e172e"
   },
   "outputs": [
    {
     "name": "stdout",
     "output_type": "stream",
     "text": [
      "Defaulting to user installation because normal site-packages is not writeable\n",
      "Requirement already satisfied: emnist in c:\\users\\dell\\appdata\\roaming\\python\\python310\\site-packages (0.0)\n",
      "Requirement already satisfied: requests in d:\\appdownload\\anaconda3\\lib\\site-packages (from emnist) (2.28.1)\n",
      "Requirement already satisfied: tqdm in d:\\appdownload\\anaconda3\\lib\\site-packages (from emnist) (4.64.1)\n",
      "Requirement already satisfied: numpy in d:\\appdownload\\anaconda3\\lib\\site-packages (from emnist) (1.23.5)\n",
      "Requirement already satisfied: urllib3<1.27,>=1.21.1 in d:\\appdownload\\anaconda3\\lib\\site-packages (from requests->emnist) (1.26.14)\n",
      "Requirement already satisfied: idna<4,>=2.5 in d:\\appdownload\\anaconda3\\lib\\site-packages (from requests->emnist) (3.4)\n",
      "Requirement already satisfied: certifi>=2017.4.17 in d:\\appdownload\\anaconda3\\lib\\site-packages (from requests->emnist) (2022.12.7)\n",
      "Requirement already satisfied: charset-normalizer<3,>=2 in d:\\appdownload\\anaconda3\\lib\\site-packages (from requests->emnist) (2.0.4)\n",
      "Requirement already satisfied: colorama in d:\\appdownload\\anaconda3\\lib\\site-packages (from tqdm->emnist) (0.4.6)\n"
     ]
    },
    {
     "name": "stderr",
     "output_type": "stream",
     "text": [
      "WARNING: Ignoring invalid distribution -ensorflow-intel (c:\\users\\dell\\appdata\\roaming\\python\\python310\\site-packages)\n",
      "WARNING: Ignoring invalid distribution -ensorflow-intel (c:\\users\\dell\\appdata\\roaming\\python\\python310\\site-packages)\n",
      "WARNING: Ignoring invalid distribution -ensorflow-intel (c:\\users\\dell\\appdata\\roaming\\python\\python310\\site-packages)\n",
      "WARNING: Ignoring invalid distribution -ensorflow-intel (c:\\users\\dell\\appdata\\roaming\\python\\python310\\site-packages)\n",
      "WARNING: Ignoring invalid distribution -ensorflow-intel (c:\\users\\dell\\appdata\\roaming\\python\\python310\\site-packages)\n",
      "WARNING: Ignoring invalid distribution -ensorflow-intel (c:\\users\\dell\\appdata\\roaming\\python\\python310\\site-packages)\n"
     ]
    }
   ],
   "source": [
    "!pip install emnist"
   ]
  },
  {
   "cell_type": "code",
   "execution_count": 2,
   "metadata": {
    "id": "TFLsRvblCZjK"
   },
   "outputs": [],
   "source": [
    "import numpy as np\n",
    "from keras.layers import *\n",
    "from keras.models import Model, load_model\n",
    "from keras import backend as K\n",
    "from keras import losses\n",
    "from keras.optimizers import SGD\n",
    "import imageio,os\n",
    "from PIL import Image\n",
    "from keras.callbacks import EarlyStopping, ReduceLROnPlateau, ModelCheckpoint\n",
    "from emnist import extract_training_samples, extract_test_samples"
   ]
  },
  {
   "cell_type": "code",
   "execution_count": 3,
   "metadata": {
    "colab": {
     "base_uri": "https://localhost:8080/"
    },
    "id": "c2nkpbbsNus-",
    "outputId": "677bdd6a-ae59-4420-844e-45557e23f98b"
   },
   "outputs": [
    {
     "name": "stdout",
     "output_type": "stream",
     "text": [
      "Num GPUs Available:  0\n"
     ]
    }
   ],
   "source": [
    "import tensorflow as tf\n",
    "print(\"Num GPUs Available: \", len(tf.config.list_physical_devices('GPU')))"
   ]
  },
  {
   "cell_type": "code",
   "execution_count": 45,
   "metadata": {
    "id": "QcPIbdEzCh-j"
   },
   "outputs": [],
   "source": [
    "batch_size = 100\n",
    "latent_dim = 20\n",
    "epochs = 100\n",
    "img_dim = 28\n",
    "filters = 16\n",
    "intermediate_dim = 256\n",
    "learning_rate = 0.01\n",
    "momentum = 0.5\n",
    "#dataset = 'balanced'\n",
    "# dataset = 'letters'\n",
    "dataset = 'mnist'\n",
    "# dataset = 'fashion'"
   ]
  },
  {
   "cell_type": "code",
   "execution_count": 46,
   "metadata": {
    "colab": {
     "base_uri": "https://localhost:8080/"
    },
    "id": "elGRbd7HJ5WZ",
    "outputId": "5ed6cf28-da3b-43d5-9e75-d291fd117a87"
   },
   "outputs": [],
   "source": [
    "if dataset == 'balanced':\n",
    "  num_classes = 47\n",
    "  x_train, y_train = extract_training_samples(dataset)\n",
    "  x_test, y_test = extract_test_samples(dataset)\n",
    "elif dataset == 'letters':\n",
    "  num_classes = 26\n",
    "  x_train, y_train = extract_training_samples(dataset)\n",
    "  x_test, y_test = extract_test_samples(dataset)\n",
    "elif dataset == 'mnist':\n",
    "  num_classes = 10\n",
    "  from keras.datasets import mnist\n",
    "  (x_train, y_train), (x_test, y_test) = mnist.load_data()\n",
    "elif dataset == 'fashion':\n",
    "  num_classes = 10\n",
    "  from keras.datasets import fashion_mnist as mnist\n",
    "  (x_train, y_train), (x_test, y_test) = mnist.load_data()"
   ]
  },
  {
   "cell_type": "code",
   "execution_count": 47,
   "metadata": {
    "id": "ZfdCctD1CnLC"
   },
   "outputs": [],
   "source": [
    "x_train = x_train.astype('float32') / 255.\n",
    "x_test = x_test.astype('float32') / 255.\n",
    "x_train = x_train.reshape((-1, img_dim, img_dim, 1))\n",
    "x_test = x_test.reshape((-1, img_dim, img_dim, 1))"
   ]
  },
  {
   "cell_type": "code",
   "execution_count": 48,
   "metadata": {
    "id": "0jhCYYlCoAy7"
   },
   "outputs": [],
   "source": [
    "#均匀分布encoder\n",
    "\n",
    "x = Input(shape=(img_dim, img_dim, 1))\n",
    "h = x\n",
    "\n",
    "h = Conv2D(filters=filters, kernel_size=3, strides=2, padding='same')(h)\n",
    "h = LeakyReLU(0.2)(h)\n",
    "h = Conv2D(filters=filters, kernel_size=3, strides=1, padding='same')(h)\n",
    "h = LeakyReLU(0.2)(h)\n",
    "h = Conv2D(filters=filters*2, kernel_size=3, strides=2, padding='same')(h)\n",
    "h = LeakyReLU(0.2)(h)\n",
    "h = Conv2D(filters=filters*2, kernel_size=3, strides=1, padding='same')(h)\n",
    "h = LeakyReLU(0.2)(h)\n",
    "\n",
    "h_shape = K.int_shape(h)[1:]\n",
    "h = Flatten()(h)\n",
    "z_min = Dense(latent_dim)(h)  # 均匀分布的最小值\n",
    "z_max = Dense(latent_dim)(h)  # 均匀分布的最大值\n",
    "\n",
    "encoder = Model(x, [z_min, z_max])  # 通常认为 z_min 和 z_max 就是所需的隐变量编码\n"
   ]
  },
  {
   "cell_type": "code",
   "execution_count": 19,
   "metadata": {
    "id": "gduwT3FkgehU"
   },
   "outputs": [],
   "source": [
    "#beta分布encoder\n",
    "x = Input(shape=(img_dim, img_dim, 1))\n",
    "h = x\n",
    "\n",
    "h = Conv2D(filters=filters, kernel_size=3, strides=2, padding='same')(h)\n",
    "h = LeakyReLU(0.2)(h)\n",
    "h = Conv2D(filters=filters, kernel_size=3, strides=1, padding='same')(h)\n",
    "h = LeakyReLU(0.2)(h)\n",
    "h = Conv2D(filters=filters*2, kernel_size=3, strides=2, padding='same')(h)\n",
    "h = LeakyReLU(0.2)(h)\n",
    "h = Conv2D(filters=filters*2, kernel_size=3, strides=1, padding='same')(h)\n",
    "h = LeakyReLU(0.2)(h)\n",
    "\n",
    "h_shape = K.int_shape(h)[1:]\n",
    "h = Flatten()(h)\n",
    "# 编码器输出均值和方差参数\n",
    "z_mean = Dense(latent_dim)(h) # p(z|x)的均值\n",
    "z_log_var = Dense(latent_dim)(h) # p(z|x)的方差\n",
    "\n",
    "\n",
    "encoder = Model(x, z_mean) # 通常认为z_mean就是所需的隐变量编码"
   ]
  },
  {
   "cell_type": "code",
   "execution_count": 7,
   "metadata": {
    "id": "xHUK8omNCwyf"
   },
   "outputs": [],
   "source": [
    "#高斯encoder\n",
    "# 搭建模型\n",
    "\n",
    "x = Input(shape=(img_dim, img_dim, 1))\n",
    "h = x\n",
    "\n",
    "h = Conv2D(filters=filters, kernel_size=3, strides=2, padding='same')(h)\n",
    "h = LeakyReLU(0.2)(h)\n",
    "h = Conv2D(filters=filters, kernel_size=3, strides=1, padding='same')(h)\n",
    "h = LeakyReLU(0.2)(h)\n",
    "h = Conv2D(filters=filters*2, kernel_size=3, strides=2, padding='same')(h)\n",
    "h = LeakyReLU(0.2)(h)\n",
    "h = Conv2D(filters=filters*2, kernel_size=3, strides=1, padding='same')(h)\n",
    "h = LeakyReLU(0.2)(h)\n",
    "\n",
    "h_shape = K.int_shape(h)[1:]\n",
    "h = Flatten()(h)\n",
    "z_mean = Dense(latent_dim)(h) # p(z|x)的均值\n",
    "z_log_var = Dense(latent_dim)(h) # p(z|x)的方差\n",
    "\n",
    "encoder = Model(x, z_mean) # 通常认为z_mean就是所需的隐变量编码"
   ]
  },
  {
   "cell_type": "code",
   "execution_count": 49,
   "metadata": {
    "id": "nwNZZTGOoHnA"
   },
   "outputs": [],
   "source": [
    "#均匀分布decoder\n",
    "\n",
    "z = Input(shape=(latent_dim,))\n",
    "h = z\n",
    "h = Dense(np.prod(h_shape))(h)\n",
    "h = Reshape(h_shape)(h)\n",
    "\n",
    "# Mirroring VGG-5 based encoder structure\n",
    "h = Conv2DTranspose(filters=filters*2, kernel_size=3, strides=1, padding='same')(h)\n",
    "h = LeakyReLU(0.2)(h)\n",
    "h = Conv2DTranspose(filters=filters*2, kernel_size=3, strides=2, padding='same')(h)\n",
    "h = LeakyReLU(0.2)(h)\n",
    "h = Conv2DTranspose(filters=filters, kernel_size=3, strides=1, padding='same')(h)\n",
    "h = LeakyReLU(0.2)(h)\n",
    "h = Conv2DTranspose(filters=filters, kernel_size=3, strides=2, padding='same')(h)\n",
    "h = LeakyReLU(0.2)(h)\n",
    "\n",
    "x_recon = Conv2DTranspose(filters=1,\n",
    "                           kernel_size=3,\n",
    "                           activation='sigmoid',\n",
    "                           padding='same')(h)\n",
    "\n",
    "decoder = Model(z, x_recon)  # 解码器\n",
    "generator = decoder\n",
    "\n"
   ]
  },
  {
   "cell_type": "code",
   "execution_count": 20,
   "metadata": {
    "id": "oaCQK5KAguzS"
   },
   "outputs": [],
   "source": [
    "#beta分布decoder\n",
    "z = Input(shape=(latent_dim,))\n",
    "h = z\n",
    "h = Dense(np.prod(h_shape))(h)\n",
    "h = Reshape(h_shape)(h)\n",
    "\n",
    "# Mirroring VGG-5 based encoder structure\n",
    "h = Conv2DTranspose(filters=filters*2, kernel_size=3, strides=1, padding='same')(h)\n",
    "h = LeakyReLU(0.2)(h)\n",
    "h = Conv2DTranspose(filters=filters*2, kernel_size=3, strides=2, padding='same')(h)\n",
    "h = LeakyReLU(0.2)(h)\n",
    "h = Conv2DTranspose(filters=filters, kernel_size=3, strides=1, padding='same')(h)\n",
    "h = LeakyReLU(0.2)(h)\n",
    "h = Conv2DTranspose(filters=filters, kernel_size=3, strides=2, padding='same')(h)\n",
    "h = LeakyReLU(0.2)(h)\n",
    "\n",
    "x_recon = Conv2DTranspose(filters=1,\n",
    "              kernel_size=3,\n",
    "              activation='sigmoid',\n",
    "              padding='same')(h)\n",
    "\n",
    "\n",
    "decoder = Model(z, x_recon) # 解码器\n",
    "generator = decoder\n"
   ]
  },
  {
   "cell_type": "code",
   "execution_count": 8,
   "metadata": {
    "id": "IKbp0XliCzGf"
   },
   "outputs": [],
   "source": [
    "#高斯decoder\n",
    "z = Input(shape=(latent_dim,))\n",
    "h = z\n",
    "h = Dense(np.prod(h_shape))(h)\n",
    "h = Reshape(h_shape)(h)\n",
    "\n",
    "# Mirroring VGG-5 based encoder structure\n",
    "h = Conv2DTranspose(filters=filters*2, kernel_size=3, strides=1, padding='same')(h)\n",
    "h = LeakyReLU(0.2)(h)\n",
    "h = Conv2DTranspose(filters=filters*2, kernel_size=3, strides=2, padding='same')(h)\n",
    "h = LeakyReLU(0.2)(h)\n",
    "h = Conv2DTranspose(filters=filters, kernel_size=3, strides=1, padding='same')(h)\n",
    "h = LeakyReLU(0.2)(h)\n",
    "h = Conv2DTranspose(filters=filters, kernel_size=3, strides=2, padding='same')(h)\n",
    "h = LeakyReLU(0.2)(h)\n",
    "\n",
    "x_recon = Conv2DTranspose(filters=1,\n",
    "              kernel_size=3,\n",
    "              activation='sigmoid',\n",
    "              padding='same')(h)\n",
    "\n",
    "\n",
    "decoder = Model(z, x_recon) # 解码器\n",
    "generator = decoder"
   ]
  },
  {
   "cell_type": "code",
   "execution_count": 50,
   "metadata": {
    "id": "vnoiGEG5vy4R"
   },
   "outputs": [],
   "source": [
    "#均匀分布的分类器\n",
    "z = Input(shape=(latent_dim,))\n",
    "y = Dense(intermediate_dim, activation='relu')(z)\n",
    "y = Dense(num_classes, activation='sigmoid')(y)\n",
    "\n",
    "classifier = Model(z, y)  # 隐变量分类器\n"
   ]
  },
  {
   "cell_type": "code",
   "execution_count": 21,
   "metadata": {
    "id": "C-xizJjjhDM0"
   },
   "outputs": [],
   "source": [
    "#beta分布的分类器\n",
    "z = Input(shape=(latent_dim,))\n",
    "y = Dense(intermediate_dim, activation='relu')(z)\n",
    "y = Dense(num_classes, activation='softmax')(y)\n",
    "classifier = Model(z, y)"
   ]
  },
  {
   "cell_type": "code",
   "execution_count": 9,
   "metadata": {
    "id": "B_lVYQoYC2-8"
   },
   "outputs": [],
   "source": [
    "#高斯分布的分类器\n",
    "z = Input(shape=(latent_dim,))\n",
    "y = Dense(intermediate_dim, activation='relu')(z)\n",
    "y = Dense(num_classes, activation='softmax')(y)\n",
    "\n",
    "classifier = Model(z, y) # 隐变量分类器"
   ]
  },
  {
   "cell_type": "code",
   "execution_count": 51,
   "metadata": {},
   "outputs": [],
   "source": [
    "from tensorflow.random import uniform\n",
    "# import tensorflow_probability as tfp\n",
    "from tensorflow.keras import backend as K"
   ]
  },
  {
   "cell_type": "code",
   "execution_count": 52,
   "metadata": {
    "id": "ub3iP_vlo656"
   },
   "outputs": [],
   "source": [
    "#均匀分布重参数\n",
    "\n",
    "def sampling(args):\n",
    "    z_min, z_max = args\n",
    "    epsilon = uniform(shape=(K.shape(z_min)[0], latent_dim))\n",
    "    return z_min + epsilon * (z_max - z_min)\n",
    "\n",
    "# 重参数层，使用均匀分布采样\n",
    "z = Lambda(sampling, output_shape=(latent_dim,))([z_min, z_max])\n",
    "x_recon = decoder(z)\n",
    "y = classifier(z)"
   ]
  },
  {
   "cell_type": "code",
   "execution_count": 22,
   "metadata": {
    "id": "CTpCMnsCjVco"
   },
   "outputs": [],
   "source": [
    "#beta分布重参数\n",
    "def sampling(args):\n",
    "    z_mean, z_log_var = args\n",
    "    epsilon = K.random_normal(shape=(K.shape(z_mean)[0], latent_dim))\n",
    "    return z_mean + K.exp(z_log_var / 2) * epsilon\n",
    "\n",
    "z = Lambda(sampling, output_shape=(latent_dim,))([z_mean, z_log_var])\n",
    "x_recon = decoder(z)\n",
    "y = classifier(z)"
   ]
  },
  {
   "cell_type": "code",
   "execution_count": 10,
   "metadata": {
    "id": "PKWtq3gkDEZ9"
   },
   "outputs": [],
   "source": [
    "#高斯分布重参数\n",
    "# 重参数技巧\n",
    "def sampling(args):\n",
    "    z_mean, z_log_var = args\n",
    "    epsilon = K.random_normal(shape=(K.shape(z_mean)[0], latent_dim))\n",
    "    return z_mean + K.exp(z_log_var / 2) * epsilon\n",
    "\n",
    "# 重参数层，相当于给输入加入噪声\n",
    "z = Lambda(sampling, output_shape=(latent_dim,))([z_mean, z_log_var])\n",
    "x_recon = decoder(z)\n",
    "y = classifier(z)"
   ]
  },
  {
   "cell_type": "code",
   "execution_count": 53,
   "metadata": {
    "id": "e2C_bUAKpnPz"
   },
   "outputs": [],
   "source": [
    "#均匀分布的自定义层\n",
    "class Uniform(Layer):\n",
    "    \"\"\"这是个简单的层，定义q(z|y)中的均匀分布参数，每个类别配一个范围。\n",
    "    然后输出“z - 均值”，为后面计算loss准备。\n",
    "    \"\"\"\n",
    "    def __init__(self, num_classes, **kwargs):\n",
    "        self.num_classes = num_classes\n",
    "        super(Uniform, self).__init__(**kwargs)\n",
    "\n",
    "    def build(self, input_shape):\n",
    "        latent_dim = input_shape[-1]\n",
    "        self.min_val = self.add_weight(name='min_val',\n",
    "                                       shape=(self.num_classes, latent_dim),\n",
    "                                       initializer='zeros')\n",
    "        self.max_val = self.add_weight(name='max_val',\n",
    "                                       shape=(self.num_classes, latent_dim),\n",
    "                                       initializer='ones')\n",
    "\n",
    "    def call(self, inputs):\n",
    "        z = inputs  # z.shape=(batch_size, latent_dim)\n",
    "        z = K.expand_dims(z, 1)\n",
    "        return z * (self.max_val - self.min_val) + self.min_val\n",
    "\n",
    "    def compute_output_shape(self, input_shape):\n",
    "        return (None, self.num_classes, input_shape[-1])\n",
    "\n",
    "uniform_layer = Uniform(num_classes)\n",
    "z_prior_uniform = uniform_layer(z)"
   ]
  },
  {
   "cell_type": "code",
   "execution_count": 23,
   "metadata": {
    "id": "gPD3giG3j2W4"
   },
   "outputs": [],
   "source": [
    "#beta分布的自定义层\n",
    "class Beta(Layer):\n",
    "\n",
    "    def __init__(self, num_classes, **kwargs):\n",
    "        self.num_classes = num_classes\n",
    "        super(Beta, self).__init__(**kwargs)\n",
    "\n",
    "    def build(self, input_shape):\n",
    "        latent_dim = input_shape[-1]\n",
    "        self.mean = self.add_weight(name='mean',\n",
    "                       shape=(self.num_classes, latent_dim),\n",
    "                       initializer='zeros')\n",
    "    def call(self, inputs):\n",
    "        z = inputs # z.shape=(batch_size, latent_dim)\n",
    "        z = K.expand_dims(z, 1)\n",
    "        return z - K.expand_dims(self.mean, 0)\n",
    "\n",
    "    def compute_output_shape(self, input_shape):\n",
    "        return (None, self.num_classes, input_shape[-1])\n",
    "\n",
    "beta_layer = Beta(num_classes)\n",
    "z_prior_beta = beta_layer(z)\n"
   ]
  },
  {
   "cell_type": "code",
   "execution_count": 11,
   "metadata": {
    "id": "GhhoOnvEDKRf"
   },
   "outputs": [],
   "source": [
    "#高斯分布的自定义层\n",
    "class Gaussian(Layer):\n",
    "    \"\"\"这是个简单的层，定义q(z|y)中的均值参数，每个类别配一个均值。\n",
    "    然后输出“z - 均值”，为后面计算loss准备。\n",
    "    \"\"\"\n",
    "    def __init__(self, num_classes, **kwargs):\n",
    "        self.num_classes = num_classes\n",
    "        super(Gaussian, self).__init__(**kwargs)\n",
    "    def build(self, input_shape):\n",
    "        latent_dim = input_shape[-1]\n",
    "        self.mean = self.add_weight(name='mean',\n",
    "                       shape=(self.num_classes, latent_dim),\n",
    "                       initializer='zeros')\n",
    "    def call(self, inputs):\n",
    "        z = inputs # z.shape=(batch_size, latent_dim)\n",
    "        z = K.expand_dims(z, 1)\n",
    "        return z - K.expand_dims(self.mean, 0)\n",
    "    def compute_output_shape(self, input_shape):\n",
    "        return (None, self.num_classes, input_shape[-1])\n",
    "\n",
    "gaussian = Gaussian(num_classes)\n",
    "z_prior_mean = gaussian(z)"
   ]
  },
  {
   "cell_type": "code",
   "execution_count": 54,
   "metadata": {
    "id": "2v0N3qj-p-da"
   },
   "outputs": [],
   "source": [
    "#均匀分布的模型\n",
    "vae = Model(x, [x_recon, z_prior_uniform, y])\n"
   ]
  },
  {
   "cell_type": "code",
   "execution_count": 24,
   "metadata": {
    "id": "Kc1wcVSwj-wp"
   },
   "outputs": [],
   "source": [
    "#beta分布的模型\n",
    "vae = Model(x, [x_recon, z_prior_beta, y])"
   ]
  },
  {
   "cell_type": "code",
   "execution_count": 12,
   "metadata": {
    "id": "4ADtK8HjDZCf"
   },
   "outputs": [],
   "source": [
    "#高斯分布的模型\n",
    "vae = Model(x, [x_recon, z_prior_mean, y])"
   ]
  },
  {
   "cell_type": "code",
   "execution_count": 55,
   "metadata": {
    "colab": {
     "base_uri": "https://localhost:8080/"
    },
    "id": "RiXzW4zMqXKi",
    "outputId": "13c74b9c-b78d-4e1c-ea27-413b1f56e2af"
   },
   "outputs": [
    {
     "name": "stderr",
     "output_type": "stream",
     "text": [
      "WARNING:absl:`lr` is deprecated in Keras optimizer, please use `learning_rate` or use the legacy optimizer, e.g.,tf.keras.optimizers.legacy.SGD.\n"
     ]
    },
    {
     "name": "stdout",
     "output_type": "stream",
     "text": [
      "Model: \"model_11\"\n",
      "__________________________________________________________________________________________________\n",
      " Layer (type)                Output Shape                 Param #   Connected to                  \n",
      "==================================================================================================\n",
      " input_7 (InputLayer)        [(None, 28, 28, 1)]          0         []                            \n",
      "                                                                                                  \n",
      " conv2d_8 (Conv2D)           (None, 14, 14, 16)           160       ['input_7[0][0]']             \n",
      "                                                                                                  \n",
      " leaky_re_lu_16 (LeakyReLU)  (None, 14, 14, 16)           0         ['conv2d_8[0][0]']            \n",
      "                                                                                                  \n",
      " conv2d_9 (Conv2D)           (None, 14, 14, 16)           2320      ['leaky_re_lu_16[0][0]']      \n",
      "                                                                                                  \n",
      " leaky_re_lu_17 (LeakyReLU)  (None, 14, 14, 16)           0         ['conv2d_9[0][0]']            \n",
      "                                                                                                  \n",
      " conv2d_10 (Conv2D)          (None, 7, 7, 32)             4640      ['leaky_re_lu_17[0][0]']      \n",
      "                                                                                                  \n",
      " leaky_re_lu_18 (LeakyReLU)  (None, 7, 7, 32)             0         ['conv2d_10[0][0]']           \n",
      "                                                                                                  \n",
      " conv2d_11 (Conv2D)          (None, 7, 7, 32)             9248      ['leaky_re_lu_18[0][0]']      \n",
      "                                                                                                  \n",
      " leaky_re_lu_19 (LeakyReLU)  (None, 7, 7, 32)             0         ['conv2d_11[0][0]']           \n",
      "                                                                                                  \n",
      " flatten_2 (Flatten)         (None, 1568)                 0         ['leaky_re_lu_19[0][0]']      \n",
      "                                                                                                  \n",
      " dense_10 (Dense)            (None, 20)                   31380     ['flatten_2[0][0]']           \n",
      "                                                                                                  \n",
      " dense_11 (Dense)            (None, 20)                   31380     ['flatten_2[0][0]']           \n",
      "                                                                                                  \n",
      " lambda_2 (Lambda)           (None, 20)                   0         ['dense_10[0][0]',            \n",
      "                                                                     'dense_11[0][0]']            \n",
      "                                                                                                  \n",
      " model_9 (Functional)        (None, 28, 28, 1)            58513     ['lambda_2[0][0]']            \n",
      "                                                                                                  \n",
      " uniform_1 (Uniform)         (None, 10, 20)               400       ['lambda_2[0][0]']            \n",
      "                                                                                                  \n",
      " model_10 (Functional)       (None, 10)                   7946      ['lambda_2[0][0]']            \n",
      "                                                                                                  \n",
      " tf.math.subtract_4 (TFOpLa  (None, 28, 28, 1)            0         ['input_7[0][0]',             \n",
      " mbda)                                                               'model_9[0][0]']             \n",
      "                                                                                                  \n",
      " tf.expand_dims_6 (TFOpLamb  (None, 1, 20)                0         ['dense_11[0][0]']            \n",
      " da)                                                                                              \n",
      "                                                                                                  \n",
      " tf.expand_dims_5 (TFOpLamb  (None, 1, 20)                0         ['dense_10[0][0]']            \n",
      " da)                                                                                              \n",
      "                                                                                                  \n",
      " tf.math.pow_3 (TFOpLambda)  (None, 28, 28, 1)            0         ['tf.math.subtract_4[0][0]']  \n",
      "                                                                                                  \n",
      " tf.math.subtract_5 (TFOpLa  (None, 1, 20)                0         ['tf.expand_dims_6[0][0]',    \n",
      " mbda)                                                               'tf.expand_dims_5[0][0]']    \n",
      "                                                                                                  \n",
      " tf.math.reduce_mean_6 (TFO  (28, 28, 1)                  0         ['tf.math.pow_3[0][0]']       \n",
      " pLambda)                                                                                         \n",
      "                                                                                                  \n",
      " tf.math.pow_4 (TFOpLambda)  (None, 1, 20)                0         ['tf.math.subtract_5[0][0]']  \n",
      "                                                                                                  \n",
      " tf.__operators__.add_6 (TF  (None, 10)                   0         ['model_10[0][0]']            \n",
      " OpLambda)                                                                                        \n",
      "                                                                                                  \n",
      " tf.math.multiply_8 (TFOpLa  (28, 28, 1)                  0         ['tf.math.reduce_mean_6[0][0]'\n",
      " mbda)                                                              ]                             \n",
      "                                                                                                  \n",
      " tf.math.multiply_9 (TFOpLa  (None, 1, 20)                0         ['tf.math.pow_4[0][0]']       \n",
      " mbda)                                                                                            \n",
      "                                                                                                  \n",
      " tf.math.log_2 (TFOpLambda)  (None, 10)                   0         ['tf.__operators__.add_6[0][0]\n",
      "                                                                    ']                            \n",
      "                                                                                                  \n",
      " tf.math.reduce_sum_6 (TFOp  ()                           0         ['tf.math.multiply_8[0][0]']  \n",
      " Lambda)                                                                                          \n",
      "                                                                                                  \n",
      " tf.math.reduce_mean_7 (TFO  (1, 20)                      0         ['tf.math.multiply_9[0][0]']  \n",
      " pLambda)                                                                                         \n",
      "                                                                                                  \n",
      " tf.math.multiply_10 (TFOpL  (None, 10)                   0         ['model_10[0][0]',            \n",
      " ambda)                                                              'tf.math.log_2[0][0]']       \n",
      "                                                                                                  \n",
      " tf.math.multiply_11 (TFOpL  ()                           0         ['tf.math.reduce_sum_6[0][0]']\n",
      " ambda)                                                                                           \n",
      "                                                                                                  \n",
      " tf.math.reduce_sum_7 (TFOp  ()                           0         ['tf.math.reduce_mean_7[0][0]'\n",
      " Lambda)                                                            ]                             \n",
      "                                                                                                  \n",
      " tf.math.reduce_mean_8 (TFO  (10,)                        0         ['tf.math.multiply_10[0][0]'] \n"
     ]
    },
    {
     "name": "stdout",
     "output_type": "stream",
     "text": [
      " pLambda)                                                                                         \n",
      "                                                                                                  \n",
      " tf.__operators__.add_7 (TF  ()                           0         ['tf.math.multiply_11[0][0]', \n",
      " OpLambda)                                                           'tf.math.reduce_sum_7[0][0]']\n",
      "                                                                                                  \n",
      " tf.math.reduce_sum_8 (TFOp  ()                           0         ['tf.math.reduce_mean_8[0][0]'\n",
      " Lambda)                                                            ]                             \n",
      "                                                                                                  \n",
      " tf.__operators__.add_8 (TF  ()                           0         ['tf.__operators__.add_7[0][0]\n",
      " OpLambda)                                                          ',                            \n",
      "                                                                     'tf.math.reduce_sum_8[0][0]']\n",
      "                                                                                                  \n",
      " add_loss_2 (AddLoss)        ()                           0         ['tf.__operators__.add_8[0][0]\n",
      "                                                                    ']                            \n",
      "                                                                                                  \n",
      "==================================================================================================\n",
      "Total params: 145987 (570.26 KB)\n",
      "Trainable params: 145987 (570.26 KB)\n",
      "Non-trainable params: 0 (0.00 Byte)\n",
      "__________________________________________________________________________________________________\n"
     ]
    }
   ],
   "source": [
    "#均匀分布的loss\n",
    "z_min = K.expand_dims(z_min, 1)\n",
    "z_max = K.expand_dims(z_max, 1)\n",
    "\n",
    "lamb = 1  # 重构误差的权重，它的相反数就是重构方差，越大意味着方差越小。\n",
    "xent_loss = 0.5 * K.mean((x - x_recon)**2, 0)\n",
    "# xent_loss = losses.binary_crossentropy(x, x_recon)\n",
    "kl_loss = 0.5 * (z_max - z_min)**2\n",
    "kl_loss = K.mean(kl_loss, 0)\n",
    "cat_loss = K.mean(y * K.log(y + K.epsilon()), 0)\n",
    "vae_loss = lamb * K.sum(xent_loss) + K.sum(kl_loss) + K.sum(cat_loss)\n",
    "\n",
    "vae.add_loss(vae_loss)\n",
    "optimizer = SGD(lr=learning_rate, momentum=momentum)\n",
    "vae.compile(optimizer='adam')\n",
    "vae.summary()\n"
   ]
  },
  {
   "cell_type": "code",
   "execution_count": 25,
   "metadata": {
    "colab": {
     "base_uri": "https://localhost:8080/"
    },
    "id": "0roK9e-ylO2V",
    "outputId": "b5fa7f94-87ab-4834-eb5e-520cb41bf34f"
   },
   "outputs": [
    {
     "name": "stderr",
     "output_type": "stream",
     "text": [
      "WARNING:absl:`lr` is deprecated in Keras optimizer, please use `learning_rate` or use the legacy optimizer, e.g.,tf.keras.optimizers.legacy.SGD.\n"
     ]
    },
    {
     "name": "stdout",
     "output_type": "stream",
     "text": [
      "Model: \"model_7\"\n",
      "__________________________________________________________________________________________________\n",
      " Layer (type)                Output Shape                 Param #   Connected to                  \n",
      "==================================================================================================\n",
      " input_4 (InputLayer)        [(None, 28, 28, 1)]          0         []                            \n",
      "                                                                                                  \n",
      " conv2d_4 (Conv2D)           (None, 14, 14, 16)           160       ['input_4[0][0]']             \n",
      "                                                                                                  \n",
      " leaky_re_lu_8 (LeakyReLU)   (None, 14, 14, 16)           0         ['conv2d_4[0][0]']            \n",
      "                                                                                                  \n",
      " conv2d_5 (Conv2D)           (None, 14, 14, 16)           2320      ['leaky_re_lu_8[0][0]']       \n",
      "                                                                                                  \n",
      " leaky_re_lu_9 (LeakyReLU)   (None, 14, 14, 16)           0         ['conv2d_5[0][0]']            \n",
      "                                                                                                  \n",
      " conv2d_6 (Conv2D)           (None, 7, 7, 32)             4640      ['leaky_re_lu_9[0][0]']       \n",
      "                                                                                                  \n",
      " leaky_re_lu_10 (LeakyReLU)  (None, 7, 7, 32)             0         ['conv2d_6[0][0]']            \n",
      "                                                                                                  \n",
      " conv2d_7 (Conv2D)           (None, 7, 7, 32)             9248      ['leaky_re_lu_10[0][0]']      \n",
      "                                                                                                  \n",
      " leaky_re_lu_11 (LeakyReLU)  (None, 7, 7, 32)             0         ['conv2d_7[0][0]']            \n",
      "                                                                                                  \n",
      " flatten_1 (Flatten)         (None, 1568)                 0         ['leaky_re_lu_11[0][0]']      \n",
      "                                                                                                  \n",
      " dense_5 (Dense)             (None, 40)                   62760     ['flatten_1[0][0]']           \n",
      "                                                                                                  \n",
      " dense_6 (Dense)             (None, 40)                   62760     ['flatten_1[0][0]']           \n",
      "                                                                                                  \n",
      " lambda_1 (Lambda)           (None, 40)                   0         ['dense_5[0][0]',             \n",
      "                                                                     'dense_6[0][0]']             \n",
      "                                                                                                  \n",
      " model_5 (Functional)        (None, 28, 28, 1)            89873     ['lambda_1[0][0]']            \n",
      "                                                                                                  \n",
      " beta_1 (Beta)               (None, 10, 40)               400       ['lambda_1[0][0]']            \n",
      "                                                                                                  \n",
      " model_6 (Functional)        (None, 10)                   13066     ['lambda_1[0][0]']            \n",
      "                                                                                                  \n",
      " tf.expand_dims_3 (TFOpLamb  (None, 1, 40)                0         ['dense_6[0][0]']             \n",
      " da)                                                                                              \n",
      "                                                                                                  \n",
      " tf.expand_dims_2 (TFOpLamb  (None, 1, 40)                0         ['dense_5[0][0]']             \n",
      " da)                                                                                              \n",
      "                                                                                                  \n",
      " tf.math.subtract_3 (TFOpLa  (None, 28, 28, 1)            0         ['input_4[0][0]',             \n",
      " mbda)                                                               'model_5[0][0]']             \n",
      "                                                                                                  \n",
      " tf.__operators__.add_4 (TF  (None, 1, 40)                0         ['tf.expand_dims_3[0][0]']    \n",
      " OpLambda)                                                                                        \n",
      "                                                                                                  \n",
      " tf.math.square_1 (TFOpLamb  (None, 1, 40)                0         ['tf.expand_dims_2[0][0]']    \n",
      " da)                                                                                              \n",
      "                                                                                                  \n",
      " tf.math.pow_1 (TFOpLambda)  (None, 28, 28, 1)            0         ['tf.math.subtract_3[0][0]']  \n",
      "                                                                                                  \n",
      " tf.math.subtract_4 (TFOpLa  (None, 1, 40)                0         ['tf.__operators__.add_4[0][0]\n",
      " mbda)                                                              ',                            \n",
      "                                                                     'tf.math.square_1[0][0]']    \n",
      "                                                                                                  \n",
      " tf.math.exp_1 (TFOpLambda)  (None, 1, 40)                0         ['tf.expand_dims_3[0][0]']    \n",
      "                                                                                                  \n",
      " tf.math.reduce_mean_3 (TFO  (28, 28, 1)                  0         ['tf.math.pow_1[0][0]']       \n",
      " pLambda)                                                                                         \n",
      "                                                                                                  \n",
      " tf.math.subtract_5 (TFOpLa  (None, 1, 40)                0         ['tf.math.subtract_4[0][0]',  \n",
      " mbda)                                                               'tf.math.exp_1[0][0]']       \n",
      "                                                                                                  \n",
      " tf.__operators__.add_5 (TF  (None, 10)                   0         ['model_6[0][0]']             \n",
      " OpLambda)                                                                                        \n",
      "                                                                                                  \n",
      " tf.math.multiply_4 (TFOpLa  (28, 28, 1)                  0         ['tf.math.reduce_mean_3[0][0]'\n",
      " mbda)                                                              ]                             \n",
      "                                                                                                  \n",
      " tf.math.reduce_mean_4 (TFO  (None, 1)                    0         ['tf.math.subtract_5[0][0]']  \n",
      " pLambda)                                                                                         \n",
      "                                                                                                  \n",
      " tf.math.log_1 (TFOpLambda)  (None, 10)                   0         ['tf.__operators__.add_5[0][0]\n",
      "                                                                    ']                            \n",
      "                                                                                                  \n",
      " tf.math.reduce_sum_3 (TFOp  ()                           0         ['tf.math.multiply_4[0][0]']  \n",
      " Lambda)                                                                                          \n",
      "                                                                                                  \n",
      " tf.math.multiply_5 (TFOpLa  (None, 1)                    0         ['tf.math.reduce_mean_4[0][0]'\n",
      " mbda)                                                              ]                             \n",
      "                                                                                                  \n"
     ]
    },
    {
     "name": "stdout",
     "output_type": "stream",
     "text": [
      " tf.math.multiply_6 (TFOpLa  (None, 10)                   0         ['model_6[0][0]',             \n",
      " mbda)                                                               'tf.math.log_1[0][0]']       \n",
      "                                                                                                  \n",
      " tf.math.multiply_7 (TFOpLa  ()                           0         ['tf.math.reduce_sum_3[0][0]']\n",
      " mbda)                                                                                            \n",
      "                                                                                                  \n",
      " tf.math.reduce_sum_4 (TFOp  ()                           0         ['tf.math.multiply_5[0][0]']  \n",
      " Lambda)                                                                                          \n",
      "                                                                                                  \n",
      " tf.math.reduce_mean_5 (TFO  (10,)                        0         ['tf.math.multiply_6[0][0]']  \n",
      " pLambda)                                                                                         \n",
      "                                                                                                  \n",
      " tf.__operators__.add_6 (TF  ()                           0         ['tf.math.multiply_7[0][0]',  \n",
      " OpLambda)                                                           'tf.math.reduce_sum_4[0][0]']\n",
      "                                                                                                  \n",
      " tf.math.reduce_sum_5 (TFOp  ()                           0         ['tf.math.reduce_mean_5[0][0]'\n",
      " Lambda)                                                            ]                             \n",
      "                                                                                                  \n",
      " tf.__operators__.add_7 (TF  ()                           0         ['tf.__operators__.add_6[0][0]\n",
      " OpLambda)                                                          ',                            \n",
      "                                                                     'tf.math.reduce_sum_5[0][0]']\n",
      "                                                                                                  \n",
      " add_loss_1 (AddLoss)        ()                           0         ['tf.__operators__.add_7[0][0]\n",
      "                                                                    ']                            \n",
      "                                                                                                  \n",
      "==================================================================================================\n",
      "Total params: 245227 (957.92 KB)\n",
      "Trainable params: 245227 (957.92 KB)\n",
      "Non-trainable params: 0 (0.00 Byte)\n",
      "__________________________________________________________________________________________________\n"
     ]
    }
   ],
   "source": [
    "#beta分布的loss\n",
    "z_mean = K.expand_dims(z_mean, 1)\n",
    "z_log_var = K.expand_dims(z_log_var, 1)\n",
    "\n",
    "lamb = 1 # 这是重构误差的权重，它的相反数就是重构方差，越大意味着方差越小。\n",
    "# 定义重构误差损失\n",
    "xent_loss = 0.5 * K.mean((x - x_recon)**2, 0)\n",
    "# xent_loss = binary_crossentropy(x, x_recon)\n",
    "# 定义KL散度损失\n",
    "kl_loss = -0.5 * K.mean(1 + z_log_var - K.square(z_mean) - K.exp(z_log_var), axis=-1)\n",
    "\n",
    "# 定义分类损失\n",
    "cat_loss = K.mean(y * K.log(y + K.epsilon()), 0)\n",
    "# 定义总损失\n",
    "vae_loss = lamb * K.sum(xent_loss) + K.sum(kl_loss) + K.sum(cat_loss)\n",
    "\n",
    "# kl_loss = - 0.5 * (z_log_var - K.square(z_prior_beta))\n",
    "# kl_loss = K.mean(K.batch_dot(K.expand_dims(y, 1), kl_loss), 0)\n",
    "# cat_loss = K.mean(y * K.log(y + K.epsilon()), 0)\n",
    "# vae_loss = lamb * K.sum(xent_loss) + K.sum(kl_loss) + K.sum(cat_loss)\n",
    "\n",
    "# 添加损失到模型\n",
    "vae.add_loss(vae_loss)\n",
    "optimizer = SGD(lr=learning_rate, momentum=momentum)\n",
    "vae.compile(optimizer=optimizer)\n",
    "vae.summary()"
   ]
  },
  {
   "cell_type": "code",
   "execution_count": 13,
   "metadata": {
    "colab": {
     "base_uri": "https://localhost:8080/"
    },
    "id": "LAzxOHOxDaNp",
    "outputId": "3ab19c10-8714-42a6-88ff-f74c7e16f08b"
   },
   "outputs": [
    {
     "name": "stderr",
     "output_type": "stream",
     "text": [
      "WARNING:absl:`lr` is deprecated in Keras optimizer, please use `learning_rate` or use the legacy optimizer, e.g.,tf.keras.optimizers.legacy.SGD.\n"
     ]
    },
    {
     "name": "stdout",
     "output_type": "stream",
     "text": [
      "Model: \"model_3\"\n",
      "__________________________________________________________________________________________________\n",
      " Layer (type)                Output Shape                 Param #   Connected to                  \n",
      "==================================================================================================\n",
      " input_1 (InputLayer)        [(None, 28, 28, 1)]          0         []                            \n",
      "                                                                                                  \n",
      " conv2d (Conv2D)             (None, 14, 14, 16)           160       ['input_1[0][0]']             \n",
      "                                                                                                  \n",
      " leaky_re_lu (LeakyReLU)     (None, 14, 14, 16)           0         ['conv2d[0][0]']              \n",
      "                                                                                                  \n",
      " conv2d_1 (Conv2D)           (None, 14, 14, 16)           2320      ['leaky_re_lu[0][0]']         \n",
      "                                                                                                  \n",
      " leaky_re_lu_1 (LeakyReLU)   (None, 14, 14, 16)           0         ['conv2d_1[0][0]']            \n",
      "                                                                                                  \n",
      " conv2d_2 (Conv2D)           (None, 7, 7, 32)             4640      ['leaky_re_lu_1[0][0]']       \n",
      "                                                                                                  \n",
      " leaky_re_lu_2 (LeakyReLU)   (None, 7, 7, 32)             0         ['conv2d_2[0][0]']            \n",
      "                                                                                                  \n",
      " conv2d_3 (Conv2D)           (None, 7, 7, 32)             9248      ['leaky_re_lu_2[0][0]']       \n",
      "                                                                                                  \n",
      " leaky_re_lu_3 (LeakyReLU)   (None, 7, 7, 32)             0         ['conv2d_3[0][0]']            \n",
      "                                                                                                  \n",
      " flatten (Flatten)           (None, 1568)                 0         ['leaky_re_lu_3[0][0]']       \n",
      "                                                                                                  \n",
      " dense (Dense)               (None, 20)                   31380     ['flatten[0][0]']             \n",
      "                                                                                                  \n",
      " dense_1 (Dense)             (None, 20)                   31380     ['flatten[0][0]']             \n",
      "                                                                                                  \n",
      " lambda (Lambda)             (None, 20)                   0         ['dense[0][0]',               \n",
      "                                                                     'dense_1[0][0]']             \n",
      "                                                                                                  \n",
      " model_1 (Functional)        (None, 28, 28, 1)            58513     ['lambda[0][0]']              \n",
      "                                                                                                  \n",
      " gaussian (Gaussian)         (None, 10, 20)               200       ['lambda[0][0]']              \n",
      "                                                                                                  \n",
      " model_2 (Functional)        (None, 10)                   7946      ['lambda[0][0]']              \n",
      "                                                                                                  \n",
      " tf.math.subtract (TFOpLamb  (None, 28, 28, 1)            0         ['input_1[0][0]',             \n",
      " da)                                                                 'model_1[0][0]']             \n",
      "                                                                                                  \n",
      " tf.expand_dims_1 (TFOpLamb  (None, 1, 20)                0         ['dense_1[0][0]']             \n",
      " da)                                                                                              \n",
      "                                                                                                  \n",
      " tf.math.square (TFOpLambda  (None, 10, 20)               0         ['gaussian[0][0]']            \n",
      " )                                                                                                \n",
      "                                                                                                  \n",
      " tf.math.pow (TFOpLambda)    (None, 28, 28, 1)            0         ['tf.math.subtract[0][0]']    \n",
      "                                                                                                  \n",
      " tf.math.subtract_1 (TFOpLa  (None, 10, 20)               0         ['tf.expand_dims_1[0][0]',    \n",
      " mbda)                                                               'tf.math.square[0][0]']      \n",
      "                                                                                                  \n",
      " tf.math.reduce_mean (TFOpL  (28, 28, 1)                  0         ['tf.math.pow[0][0]']         \n",
      " ambda)                                                                                           \n",
      "                                                                                                  \n",
      " tf.expand_dims_2 (TFOpLamb  (None, 1, 10)                0         ['model_2[0][0]']             \n",
      " da)                                                                                              \n",
      "                                                                                                  \n",
      " tf.math.multiply_1 (TFOpLa  (None, 10, 20)               0         ['tf.math.subtract_1[0][0]']  \n",
      " mbda)                                                                                            \n",
      "                                                                                                  \n",
      " tf.__operators__.add (TFOp  (None, 10)                   0         ['model_2[0][0]']             \n",
      " Lambda)                                                                                          \n",
      "                                                                                                  \n",
      " tf.math.multiply (TFOpLamb  (28, 28, 1)                  0         ['tf.math.reduce_mean[0][0]'] \n",
      " da)                                                                                              \n",
      "                                                                                                  \n",
      " tf.linalg.matmul (TFOpLamb  (None, 1, 20)                0         ['tf.expand_dims_2[0][0]',    \n",
      " da)                                                                 'tf.math.multiply_1[0][0]']  \n",
      "                                                                                                  \n",
      " tf.math.log (TFOpLambda)    (None, 10)                   0         ['tf.__operators__.add[0][0]']\n",
      "                                                                                                  \n",
      " tf.math.reduce_sum (TFOpLa  ()                           0         ['tf.math.multiply[0][0]']    \n",
      " mbda)                                                                                            \n",
      "                                                                                                  \n",
      " tf.math.reduce_mean_1 (TFO  (1, 20)                      0         ['tf.linalg.matmul[0][0]']    \n",
      " pLambda)                                                                                         \n",
      "                                                                                                  \n",
      " tf.math.multiply_2 (TFOpLa  (None, 10)                   0         ['model_2[0][0]',             \n",
      " mbda)                                                               'tf.math.log[0][0]']         \n",
      "                                                                                                  \n",
      " tf.math.multiply_3 (TFOpLa  ()                           0         ['tf.math.reduce_sum[0][0]']  \n",
      " mbda)                                                                                            \n",
      "                                                                                                  \n",
      " tf.math.reduce_sum_1 (TFOp  ()                           0         ['tf.math.reduce_mean_1[0][0]'\n"
     ]
    },
    {
     "name": "stdout",
     "output_type": "stream",
     "text": [
      " Lambda)                                                            ]                             \n",
      "                                                                                                  \n",
      " tf.math.reduce_mean_2 (TFO  (10,)                        0         ['tf.math.multiply_2[0][0]']  \n",
      " pLambda)                                                                                         \n",
      "                                                                                                  \n",
      " tf.__operators__.add_1 (TF  ()                           0         ['tf.math.multiply_3[0][0]',  \n",
      " OpLambda)                                                           'tf.math.reduce_sum_1[0][0]']\n",
      "                                                                                                  \n",
      " tf.math.reduce_sum_2 (TFOp  ()                           0         ['tf.math.reduce_mean_2[0][0]'\n",
      " Lambda)                                                            ]                             \n",
      "                                                                                                  \n",
      " tf.__operators__.add_2 (TF  ()                           0         ['tf.__operators__.add_1[0][0]\n",
      " OpLambda)                                                          ',                            \n",
      "                                                                     'tf.math.reduce_sum_2[0][0]']\n",
      "                                                                                                  \n",
      " add_loss (AddLoss)          ()                           0         ['tf.__operators__.add_2[0][0]\n",
      "                                                                    ']                            \n",
      "                                                                                                  \n",
      "==================================================================================================\n",
      "Total params: 145787 (569.48 KB)\n",
      "Trainable params: 145787 (569.48 KB)\n",
      "Non-trainable params: 0 (0.00 Byte)\n",
      "__________________________________________________________________________________________________\n"
     ]
    }
   ],
   "source": [
    "#高斯分布的loss\n",
    "z_mean = K.expand_dims(z_mean, 1)\n",
    "z_log_var = K.expand_dims(z_log_var, 1)\n",
    "\n",
    "lamb = 1 # 这是重构误差的权重，它的相反数就是重构方差，越大意味着方差越小。\n",
    "xent_loss = 0.5 * K.mean((x - x_recon)**2, 0)\n",
    "#xent_loss = losses.binary_crossentropy(x, x_recon)\n",
    "kl_loss = - 0.5 * (z_log_var - K.square(z_prior_mean))\n",
    "kl_loss = K.mean(K.batch_dot(K.expand_dims(y, 1), kl_loss), 0)\n",
    "cat_loss = K.mean(y * K.log(y + K.epsilon()), 0)\n",
    "vae_loss = lamb * K.sum(xent_loss) + K.sum(kl_loss) + K.sum(cat_loss)\n",
    "\n",
    "\n",
    "vae.add_loss(vae_loss)\n",
    "optimizer = SGD(lr=learning_rate, momentum=momentum)\n",
    "vae.compile(optimizer=optimizer)\n",
    "vae.summary()\n"
   ]
  },
  {
   "cell_type": "code",
   "execution_count": 56,
   "metadata": {
    "colab": {
     "base_uri": "https://localhost:8080/"
    },
    "id": "HVZMbuArKvFC",
    "outputId": "fc8790f0-9c06-463c-e358-1a8b8d9d659f"
   },
   "outputs": [
    {
     "name": "stdout",
     "output_type": "stream",
     "text": [
      "vae_vgg5_mnist_sgd_lr_0.01_100.h5\n"
     ]
    }
   ],
   "source": [
    "file_name = 'vae_vgg5_' + dataset + '_sgd_lr_' + str(learning_rate) + '_' + str(epochs) +'.h5'\n",
    "print(file_name)"
   ]
  },
  {
   "cell_type": "code",
   "execution_count": 57,
   "metadata": {
    "colab": {
     "base_uri": "https://localhost:8080/",
     "height": 515
    },
    "id": "va8cIKj2Dg5d",
    "outputId": "a687cbd4-217f-4645-c7b9-885bbabb0f3e"
   },
   "outputs": [
    {
     "name": "stdout",
     "output_type": "stream",
     "text": [
      "WARNING:tensorflow:`period` argument is deprecated. Please use `save_freq` to specify the frequency in number of batches seen.\n"
     ]
    },
    {
     "name": "stderr",
     "output_type": "stream",
     "text": [
      "WARNING:tensorflow:`period` argument is deprecated. Please use `save_freq` to specify the frequency in number of batches seen.\n"
     ]
    },
    {
     "name": "stdout",
     "output_type": "stream",
     "text": [
      "WARNING:tensorflow:Gradients do not exist for variables ['uniform_1/min_val:0', 'uniform_1/max_val:0'] when minimizing the loss. If you're using `model.compile()`, did you forget to provide a `loss` argument?\n"
     ]
    },
    {
     "name": "stderr",
     "output_type": "stream",
     "text": [
      "WARNING:tensorflow:Gradients do not exist for variables ['uniform_1/min_val:0', 'uniform_1/max_val:0'] when minimizing the loss. If you're using `model.compile()`, did you forget to provide a `loss` argument?\n"
     ]
    },
    {
     "name": "stdout",
     "output_type": "stream",
     "text": [
      "WARNING:tensorflow:Gradients do not exist for variables ['uniform_1/min_val:0', 'uniform_1/max_val:0'] when minimizing the loss. If you're using `model.compile()`, did you forget to provide a `loss` argument?\n"
     ]
    },
    {
     "name": "stderr",
     "output_type": "stream",
     "text": [
      "WARNING:tensorflow:Gradients do not exist for variables ['uniform_1/min_val:0', 'uniform_1/max_val:0'] when minimizing the loss. If you're using `model.compile()`, did you forget to provide a `loss` argument?\n"
     ]
    },
    {
     "name": "stdout",
     "output_type": "stream",
     "text": [
      "WARNING:tensorflow:Gradients do not exist for variables ['uniform_1/min_val:0', 'uniform_1/max_val:0'] when minimizing the loss. If you're using `model.compile()`, did you forget to provide a `loss` argument?\n"
     ]
    },
    {
     "name": "stderr",
     "output_type": "stream",
     "text": [
      "WARNING:tensorflow:Gradients do not exist for variables ['uniform_1/min_val:0', 'uniform_1/max_val:0'] when minimizing the loss. If you're using `model.compile()`, did you forget to provide a `loss` argument?\n"
     ]
    },
    {
     "name": "stdout",
     "output_type": "stream",
     "text": [
      "WARNING:tensorflow:Gradients do not exist for variables ['uniform_1/min_val:0', 'uniform_1/max_val:0'] when minimizing the loss. If you're using `model.compile()`, did you forget to provide a `loss` argument?\n"
     ]
    },
    {
     "name": "stderr",
     "output_type": "stream",
     "text": [
      "WARNING:tensorflow:Gradients do not exist for variables ['uniform_1/min_val:0', 'uniform_1/max_val:0'] when minimizing the loss. If you're using `model.compile()`, did you forget to provide a `loss` argument?\n"
     ]
    },
    {
     "name": "stdout",
     "output_type": "stream",
     "text": [
      "600/600 [==============================] - 34s 53ms/step - loss: 11.7173 - val_loss: 0.7757\n",
      "313/313 [==============================] - 1s 2ms/step\n",
      "313/313 [==============================] - 2s 5ms/step\n"
     ]
    },
    {
     "name": "stderr",
     "output_type": "stream",
     "text": [
      "WARNING:imageio:Lossy conversion from float64 to uint8. Range [0.0, 255.0]. Convert image to uint8 prior to saving to suppress this warning.\n",
      "WARNING:imageio:Lossy conversion from float64 to uint8. Range [0.0, 255.0]. Convert image to uint8 prior to saving to suppress this warning.\n",
      "WARNING:imageio:Lossy conversion from float64 to uint8. Range [0.0, 255.0]. Convert image to uint8 prior to saving to suppress this warning.\n",
      "WARNING:imageio:Lossy conversion from float64 to uint8. Range [0.0, 255.0]. Convert image to uint8 prior to saving to suppress this warning.\n",
      "WARNING:imageio:Lossy conversion from float64 to uint8. Range [0.0, 255.0]. Convert image to uint8 prior to saving to suppress this warning.\n",
      "WARNING:imageio:Lossy conversion from float64 to uint8. Range [0.0, 255.0]. Convert image to uint8 prior to saving to suppress this warning.\n",
      "WARNING:imageio:Lossy conversion from float64 to uint8. Range [0.0, 255.0]. Convert image to uint8 prior to saving to suppress this warning.\n",
      "WARNING:imageio:Lossy conversion from float64 to uint8. Range [0.0, 255.0]. Convert image to uint8 prior to saving to suppress this warning.\n"
     ]
    },
    {
     "data": {
      "image/png": "[encoded data removed]",
      "text/plain": [
       "<PIL.Image.Image image mode=L size=224x56>"
      ]
     },
     "metadata": {},
     "output_type": "display_data"
    },
    {
     "name": "stdout",
     "output_type": "stream",
     "text": [
      "600/600 [==============================] - 34s 56ms/step - loss: 0.1971 - val_loss: -0.3439\n",
      "600/600 [==============================] - 34s 56ms/step - loss: -0.4534 - val_loss: -0.6934\n",
      "600/600 [==============================] - 35s 58ms/step - loss: -0.7310 - val_loss: -0.8890\n",
      "600/600 [==============================] - 34s 57ms/step - loss: -0.9138 - val_loss: -1.0450\n",
      "600/600 [==============================] - 34s 57ms/step - loss: -1.0384 - val_loss: -1.1197\n",
      "600/600 [==============================] - 34s 57ms/step - loss: -1.1348 - val_loss: -1.2165\n",
      "600/600 [==============================] - 35s 58ms/step - loss: -1.2160 - val_loss: -1.2747\n",
      "600/600 [==============================] - 32s 53ms/step - loss: -1.2765 - val_loss: -1.3203\n",
      "600/600 [==============================] - 33s 56ms/step - loss: -1.3325 - val_loss: -1.3781\n",
      "600/600 [==============================] - 34s 57ms/step - loss: -1.3809 - val_loss: -1.3971\n",
      "313/313 [==============================] - 1s 2ms/step\n",
      "313/313 [==============================] - 2s 5ms/step\n"
     ]
    },
    {
     "name": "stderr",
     "output_type": "stream",
     "text": [
      "WARNING:imageio:Lossy conversion from float64 to uint8. Range [0.0, 255.0]. Convert image to uint8 prior to saving to suppress this warning.\n",
      "WARNING:imageio:Lossy conversion from float64 to uint8. Range [0.0, 255.0]. Convert image to uint8 prior to saving to suppress this warning.\n",
      "WARNING:imageio:Lossy conversion from float64 to uint8. Range [0.0, 255.0]. Convert image to uint8 prior to saving to suppress this warning.\n",
      "WARNING:imageio:Lossy conversion from float64 to uint8. Range [0.0, 255.0]. Convert image to uint8 prior to saving to suppress this warning.\n",
      "WARNING:imageio:Lossy conversion from float64 to uint8. Range [0.0, 255.0]. Convert image to uint8 prior to saving to suppress this warning.\n",
      "WARNING:imageio:Lossy conversion from float64 to uint8. Range [0.0, 255.0]. Convert image to uint8 prior to saving to suppress this warning.\n",
      "WARNING:imageio:Lossy conversion from float64 to uint8. Range [0.0, 255.0]. Convert image to uint8 prior to saving to suppress this warning.\n",
      "WARNING:imageio:Lossy conversion from float64 to uint8. Range [0.0, 255.0]. Convert image to uint8 prior to saving to suppress this warning.\n"
     ]
    },
    {
     "data": {
      "image/png": "[encoded data removed]",
      "text/plain": [
       "<PIL.Image.Image image mode=L size=224x56>"
      ]
     },
     "metadata": {},
     "output_type": "display_data"
    },
    {
     "name": "stdout",
     "output_type": "stream",
     "text": [
      "600/600 [==============================] - 35s 58ms/step - loss: -1.4252 - val_loss: -1.4581\n",
      "600/600 [==============================] - 34s 56ms/step - loss: -1.4599 - val_loss: -1.4766\n",
      "600/600 [==============================] - 33s 55ms/step - loss: -1.4903 - val_loss: -1.5237\n",
      "600/600 [==============================] - 33s 55ms/step - loss: -1.5250 - val_loss: -1.5203\n",
      "600/600 [==============================] - 34s 56ms/step - loss: -1.5481 - val_loss: -1.5466\n",
      "600/600 [==============================] - 33s 55ms/step - loss: -1.5727 - val_loss: -1.5519\n",
      "600/600 [==============================] - 33s 56ms/step - loss: -1.5952 - val_loss: -1.5778\n",
      "600/600 [==============================] - 34s 57ms/step - loss: -1.6196 - val_loss: -1.6038\n",
      "600/600 [==============================] - 34s 57ms/step - loss: -1.6390 - val_loss: -1.6061\n",
      "600/600 [==============================] - 34s 56ms/step - loss: -1.6556 - val_loss: -1.6183\n",
      "313/313 [==============================] - 1s 2ms/step\n",
      "313/313 [==============================] - 2s 5ms/step\n"
     ]
    },
    {
     "name": "stderr",
     "output_type": "stream",
     "text": [
      "WARNING:imageio:Lossy conversion from float64 to uint8. Range [0.0, 255.0]. Convert image to uint8 prior to saving to suppress this warning.\n",
      "WARNING:imageio:Lossy conversion from float64 to uint8. Range [0.0, 255.0]. Convert image to uint8 prior to saving to suppress this warning.\n",
      "WARNING:imageio:Lossy conversion from float64 to uint8. Range [0.0, 255.0]. Convert image to uint8 prior to saving to suppress this warning.\n",
      "WARNING:imageio:Lossy conversion from float64 to uint8. Range [0.0, 255.0]. Convert image to uint8 prior to saving to suppress this warning.\n",
      "WARNING:imageio:Lossy conversion from float64 to uint8. Range [0.0, 255.0]. Convert image to uint8 prior to saving to suppress this warning.\n",
      "WARNING:imageio:Lossy conversion from float64 to uint8. Range [0.0, 255.0]. Convert image to uint8 prior to saving to suppress this warning.\n",
      "WARNING:imageio:Lossy conversion from float64 to uint8. Range [0.0, 255.0]. Convert image to uint8 prior to saving to suppress this warning.\n",
      "WARNING:imageio:Lossy conversion from float64 to uint8. Range [0.0, 255.0]. Convert image to uint8 prior to saving to suppress this warning.\n"
     ]
    },
    {
     "data": {
      "image/png": "[encoded data removed]",
      "text/plain": [
       "<PIL.Image.Image image mode=L size=224x56>"
      ]
     },
     "metadata": {},
     "output_type": "display_data"
    },
    {
     "name": "stdout",
     "output_type": "stream",
     "text": [
      "600/600 [==============================] - 34s 57ms/step - loss: -1.6689 - val_loss: -1.6389\n",
      "600/600 [==============================] - 34s 57ms/step - loss: -1.6851 - val_loss: -1.6658\n",
      "600/600 [==============================] - 34s 57ms/step - loss: -1.7036 - val_loss: -1.6647\n",
      "600/600 [==============================] - 34s 57ms/step - loss: -1.7112 - val_loss: -1.6854\n",
      "600/600 [==============================] - 34s 56ms/step - loss: -1.7260 - val_loss: -1.6853\n",
      "600/600 [==============================] - 34s 57ms/step - loss: -1.7379 - val_loss: -1.6866\n",
      "600/600 [==============================] - 34s 57ms/step - loss: -1.7475 - val_loss: -1.7027\n",
      "600/600 [==============================] - 34s 57ms/step - loss: -1.7557 - val_loss: -1.6970\n",
      "600/600 [==============================] - 34s 57ms/step - loss: -1.7673 - val_loss: -1.7276\n",
      "600/600 [==============================] - 34s 57ms/step - loss: -1.7764 - val_loss: -1.7304\n",
      "313/313 [==============================] - 1s 2ms/step\n",
      "313/313 [==============================] - 2s 5ms/step\n"
     ]
    },
    {
     "name": "stderr",
     "output_type": "stream",
     "text": [
      "WARNING:imageio:Lossy conversion from float64 to uint8. Range [0.0, 255.0]. Convert image to uint8 prior to saving to suppress this warning.\n",
      "WARNING:imageio:Lossy conversion from float64 to uint8. Range [0.0, 255.0]. Convert image to uint8 prior to saving to suppress this warning.\n",
      "WARNING:imageio:Lossy conversion from float64 to uint8. Range [0.0, 255.0]. Convert image to uint8 prior to saving to suppress this warning.\n",
      "WARNING:imageio:Lossy conversion from float64 to uint8. Range [0.0, 255.0]. Convert image to uint8 prior to saving to suppress this warning.\n",
      "WARNING:imageio:Lossy conversion from float64 to uint8. Range [0.0, 255.0]. Convert image to uint8 prior to saving to suppress this warning.\n",
      "WARNING:imageio:Lossy conversion from float64 to uint8. Range [0.0, 255.0]. Convert image to uint8 prior to saving to suppress this warning.\n",
      "WARNING:imageio:Lossy conversion from float64 to uint8. Range [0.0, 255.0]. Convert image to uint8 prior to saving to suppress this warning.\n",
      "WARNING:imageio:Lossy conversion from float64 to uint8. Range [0.0, 255.0]. Convert image to uint8 prior to saving to suppress this warning.\n"
     ]
    },
    {
     "data": {
      "image/png": "[encoded data removed]",
      "text/plain": [
       "<PIL.Image.Image image mode=L size=224x56>"
      ]
     },
     "metadata": {},
     "output_type": "display_data"
    },
    {
     "name": "stdout",
     "output_type": "stream",
     "text": [
      "600/600 [==============================] - 34s 57ms/step - loss: -1.7847 - val_loss: -1.7319\n",
      "600/600 [==============================] - 34s 56ms/step - loss: -1.7956 - val_loss: -1.7364\n",
      "600/600 [==============================] - 34s 57ms/step - loss: -1.8010 - val_loss: -1.7511\n",
      "600/600 [==============================] - 34s 57ms/step - loss: -1.8052 - val_loss: -1.7541\n",
      "600/600 [==============================] - 34s 57ms/step - loss: -1.8143 - val_loss: -1.7848\n",
      "600/600 [==============================] - 34s 56ms/step - loss: -1.8237 - val_loss: -1.7470\n",
      "600/600 [==============================] - 34s 57ms/step - loss: -1.8294 - val_loss: -1.7951\n",
      "600/600 [==============================] - 35s 58ms/step - loss: -1.8370 - val_loss: -1.7709\n",
      "600/600 [==============================] - 34s 56ms/step - loss: -1.8408 - val_loss: -1.7862\n",
      "600/600 [==============================] - 34s 56ms/step - loss: -1.8480 - val_loss: -1.7911\n",
      "313/313 [==============================] - 1s 2ms/step\n",
      "313/313 [==============================] - 2s 5ms/step\n"
     ]
    },
    {
     "name": "stderr",
     "output_type": "stream",
     "text": [
      "WARNING:imageio:Lossy conversion from float64 to uint8. Range [0.0, 255.0]. Convert image to uint8 prior to saving to suppress this warning.\n",
      "WARNING:imageio:Lossy conversion from float64 to uint8. Range [0.0, 255.0]. Convert image to uint8 prior to saving to suppress this warning.\n",
      "WARNING:imageio:Lossy conversion from float64 to uint8. Range [0.0, 255.0]. Convert image to uint8 prior to saving to suppress this warning.\n",
      "WARNING:imageio:Lossy conversion from float64 to uint8. Range [0.0, 255.0]. Convert image to uint8 prior to saving to suppress this warning.\n",
      "WARNING:imageio:Lossy conversion from float64 to uint8. Range [0.0, 255.0]. Convert image to uint8 prior to saving to suppress this warning.\n",
      "WARNING:imageio:Lossy conversion from float64 to uint8. Range [0.0, 255.0]. Convert image to uint8 prior to saving to suppress this warning.\n",
      "WARNING:imageio:Lossy conversion from float64 to uint8. Range [0.0, 255.0]. Convert image to uint8 prior to saving to suppress this warning.\n",
      "WARNING:imageio:Lossy conversion from float64 to uint8. Range [0.0, 255.0]. Convert image to uint8 prior to saving to suppress this warning.\n"
     ]
    },
    {
     "data": {
      "image/png": "[encoded data removed]",
      "text/plain": [
       "<PIL.Image.Image image mode=L size=224x56>"
      ]
     },
     "metadata": {},
     "output_type": "display_data"
    },
    {
     "name": "stdout",
     "output_type": "stream",
     "text": [
      "600/600 [==============================] - 34s 57ms/step - loss: -1.8528 - val_loss: -1.7837\n",
      "600/600 [==============================] - 33s 56ms/step - loss: -1.8563 - val_loss: -1.7912\n",
      "600/600 [==============================] - 34s 56ms/step - loss: -1.8643 - val_loss: -1.7864\n",
      "600/600 [==============================] - 33s 56ms/step - loss: -1.8699 - val_loss: -1.7977\n",
      "600/600 [==============================] - 33s 56ms/step - loss: -1.8719 - val_loss: -1.7481\n",
      "600/600 [==============================] - 33s 56ms/step - loss: -1.8765 - val_loss: -1.8093\n",
      "600/600 [==============================] - 33s 56ms/step - loss: -1.8817 - val_loss: -1.8002\n",
      "600/600 [==============================] - 33s 56ms/step - loss: -1.8845 - val_loss: -1.8037\n",
      "600/600 [==============================] - 33s 55ms/step - loss: -1.8921 - val_loss: -1.7798\n",
      "600/600 [==============================] - 33s 56ms/step - loss: -1.8944 - val_loss: -1.8023\n",
      "313/313 [==============================] - 1s 2ms/step\n",
      "313/313 [==============================] - 2s 5ms/step\n"
     ]
    },
    {
     "name": "stderr",
     "output_type": "stream",
     "text": [
      "WARNING:imageio:Lossy conversion from float64 to uint8. Range [0.0, 255.0]. Convert image to uint8 prior to saving to suppress this warning.\n",
      "WARNING:imageio:Lossy conversion from float64 to uint8. Range [0.0, 255.0]. Convert image to uint8 prior to saving to suppress this warning.\n",
      "WARNING:imageio:Lossy conversion from float64 to uint8. Range [0.0, 255.0]. Convert image to uint8 prior to saving to suppress this warning.\n",
      "WARNING:imageio:Lossy conversion from float64 to uint8. Range [0.0, 255.0]. Convert image to uint8 prior to saving to suppress this warning.\n",
      "WARNING:imageio:Lossy conversion from float64 to uint8. Range [0.0, 255.0]. Convert image to uint8 prior to saving to suppress this warning.\n",
      "WARNING:imageio:Lossy conversion from float64 to uint8. Range [0.0, 255.0]. Convert image to uint8 prior to saving to suppress this warning.\n",
      "WARNING:imageio:Lossy conversion from float64 to uint8. Range [0.0, 255.0]. Convert image to uint8 prior to saving to suppress this warning.\n",
      "WARNING:imageio:Lossy conversion from float64 to uint8. Range [0.0, 255.0]. Convert image to uint8 prior to saving to suppress this warning.\n"
     ]
    },
    {
     "data": {
      "image/png": "[encoded data removed]",
      "text/plain": [
       "<PIL.Image.Image image mode=L size=224x56>"
      ]
     },
     "metadata": {},
     "output_type": "display_data"
    },
    {
     "name": "stdout",
     "output_type": "stream",
     "text": [
      "600/600 [==============================] - 33s 55ms/step - loss: -1.8940 - val_loss: -1.8069\n",
      "600/600 [==============================] - 33s 56ms/step - loss: -1.9015 - val_loss: -1.8292\n",
      "600/600 [==============================] - 33s 55ms/step - loss: -1.9056 - val_loss: -1.8095\n",
      "600/600 [==============================] - 33s 55ms/step - loss: -1.9075 - val_loss: -1.8438\n",
      "600/600 [==============================] - 33s 55ms/step - loss: -1.9150 - val_loss: -1.8400\n",
      "600/600 [==============================] - 33s 56ms/step - loss: -1.9145 - val_loss: -1.8361\n",
      "600/600 [==============================] - 34s 56ms/step - loss: -1.9180 - val_loss: -1.8348\n",
      "600/600 [==============================] - 34s 56ms/step - loss: -1.9207 - val_loss: -1.8550\n",
      "600/600 [==============================] - 34s 56ms/step - loss: -1.9221 - val_loss: -1.8302\n",
      "600/600 [==============================] - 34s 57ms/step - loss: -1.9277 - val_loss: -1.8395\n",
      "313/313 [==============================] - 1s 2ms/step\n",
      "313/313 [==============================] - 2s 5ms/step\n"
     ]
    },
    {
     "name": "stderr",
     "output_type": "stream",
     "text": [
      "WARNING:imageio:Lossy conversion from float64 to uint8. Range [0.0, 255.0]. Convert image to uint8 prior to saving to suppress this warning.\n",
      "WARNING:imageio:Lossy conversion from float64 to uint8. Range [0.0, 255.0]. Convert image to uint8 prior to saving to suppress this warning.\n",
      "WARNING:imageio:Lossy conversion from float64 to uint8. Range [0.0, 255.0]. Convert image to uint8 prior to saving to suppress this warning.\n",
      "WARNING:imageio:Lossy conversion from float64 to uint8. Range [0.0, 255.0]. Convert image to uint8 prior to saving to suppress this warning.\n",
      "WARNING:imageio:Lossy conversion from float64 to uint8. Range [0.0, 255.0]. Convert image to uint8 prior to saving to suppress this warning.\n",
      "WARNING:imageio:Lossy conversion from float64 to uint8. Range [0.0, 255.0]. Convert image to uint8 prior to saving to suppress this warning.\n",
      "WARNING:imageio:Lossy conversion from float64 to uint8. Range [0.0, 255.0]. Convert image to uint8 prior to saving to suppress this warning.\n",
      "WARNING:imageio:Lossy conversion from float64 to uint8. Range [0.0, 255.0]. Convert image to uint8 prior to saving to suppress this warning.\n"
     ]
    },
    {
     "data": {
      "image/png": "[encoded data removed]",
      "text/plain": [
       "<PIL.Image.Image image mode=L size=224x56>"
      ]
     },
     "metadata": {},
     "output_type": "display_data"
    },
    {
     "name": "stdout",
     "output_type": "stream",
     "text": [
      "600/600 [==============================] - 34s 57ms/step - loss: -1.9307 - val_loss: -1.8585\n",
      "600/600 [==============================] - 34s 57ms/step - loss: -1.9323 - val_loss: -1.8137\n",
      "600/600 [==============================] - 34s 57ms/step - loss: -1.9304 - val_loss: -1.8336\n",
      "600/600 [==============================] - 35s 59ms/step - loss: -1.9421 - val_loss: -1.8118\n",
      "600/600 [==============================] - 35s 58ms/step - loss: -1.9413 - val_loss: -1.8435\n",
      "600/600 [==============================] - 34s 56ms/step - loss: -1.9425 - val_loss: -1.8499\n",
      "600/600 [==============================] - 34s 57ms/step - loss: -1.9461 - val_loss: -1.8513\n",
      "600/600 [==============================] - 34s 56ms/step - loss: -1.9483 - val_loss: -1.8605\n",
      "600/600 [==============================] - 34s 56ms/step - loss: -1.9480 - val_loss: -1.8537\n",
      "600/600 [==============================] - 34s 57ms/step - loss: -1.9516 - val_loss: -1.8555\n",
      "313/313 [==============================] - 1s 2ms/step\n",
      "313/313 [==============================] - 2s 5ms/step\n"
     ]
    },
    {
     "name": "stderr",
     "output_type": "stream",
     "text": [
      "WARNING:imageio:Lossy conversion from float64 to uint8. Range [0.0, 255.0]. Convert image to uint8 prior to saving to suppress this warning.\n",
      "WARNING:imageio:Lossy conversion from float64 to uint8. Range [0.0, 255.0]. Convert image to uint8 prior to saving to suppress this warning.\n",
      "WARNING:imageio:Lossy conversion from float64 to uint8. Range [0.0, 255.0]. Convert image to uint8 prior to saving to suppress this warning.\n",
      "WARNING:imageio:Lossy conversion from float64 to uint8. Range [0.0, 255.0]. Convert image to uint8 prior to saving to suppress this warning.\n",
      "WARNING:imageio:Lossy conversion from float64 to uint8. Range [0.0, 255.0]. Convert image to uint8 prior to saving to suppress this warning.\n",
      "WARNING:imageio:Lossy conversion from float64 to uint8. Range [0.0, 255.0]. Convert image to uint8 prior to saving to suppress this warning.\n",
      "WARNING:imageio:Lossy conversion from float64 to uint8. Range [0.0, 255.0]. Convert image to uint8 prior to saving to suppress this warning.\n",
      "WARNING:imageio:Lossy conversion from float64 to uint8. Range [0.0, 255.0]. Convert image to uint8 prior to saving to suppress this warning.\n"
     ]
    },
    {
     "data": {
      "image/png": "[encoded data removed]",
      "text/plain": [
       "<PIL.Image.Image image mode=L size=224x56>"
      ]
     },
     "metadata": {},
     "output_type": "display_data"
    },
    {
     "name": "stdout",
     "output_type": "stream",
     "text": [
      "600/600 [==============================] - 34s 57ms/step - loss: -1.9509 - val_loss: -1.8591\n",
      "600/600 [==============================] - 34s 56ms/step - loss: -1.9612 - val_loss: -1.8697\n",
      "600/600 [==============================] - 34s 56ms/step - loss: -1.9606 - val_loss: -1.8664\n",
      "600/600 [==============================] - 34s 56ms/step - loss: -1.9600 - val_loss: -1.8527\n",
      "600/600 [==============================] - 34s 57ms/step - loss: -1.9574 - val_loss: -1.8618\n",
      "600/600 [==============================] - 37s 62ms/step - loss: -1.9675 - val_loss: -1.8681\n",
      "600/600 [==============================] - 34s 57ms/step - loss: -1.9665 - val_loss: -1.8813\n",
      "600/600 [==============================] - 34s 57ms/step - loss: -1.9690 - val_loss: -1.8520\n",
      "600/600 [==============================] - 34s 57ms/step - loss: -1.9679 - val_loss: -1.8691\n",
      "600/600 [==============================] - 34s 57ms/step - loss: -1.9710 - val_loss: -1.8704\n",
      "313/313 [==============================] - 1s 2ms/step\n",
      "313/313 [==============================] - 2s 5ms/step\n"
     ]
    },
    {
     "name": "stderr",
     "output_type": "stream",
     "text": [
      "WARNING:imageio:Lossy conversion from float64 to uint8. Range [0.0, 255.0]. Convert image to uint8 prior to saving to suppress this warning.\n",
      "WARNING:imageio:Lossy conversion from float64 to uint8. Range [0.0, 255.0]. Convert image to uint8 prior to saving to suppress this warning.\n",
      "WARNING:imageio:Lossy conversion from float64 to uint8. Range [0.0, 255.0]. Convert image to uint8 prior to saving to suppress this warning.\n",
      "WARNING:imageio:Lossy conversion from float64 to uint8. Range [0.0, 255.0]. Convert image to uint8 prior to saving to suppress this warning.\n",
      "WARNING:imageio:Lossy conversion from float64 to uint8. Range [0.0, 255.0]. Convert image to uint8 prior to saving to suppress this warning.\n",
      "WARNING:imageio:Lossy conversion from float64 to uint8. Range [0.0, 255.0]. Convert image to uint8 prior to saving to suppress this warning.\n",
      "WARNING:imageio:Lossy conversion from float64 to uint8. Range [0.0, 255.0]. Convert image to uint8 prior to saving to suppress this warning.\n",
      "WARNING:imageio:Lossy conversion from float64 to uint8. Range [0.0, 255.0]. Convert image to uint8 prior to saving to suppress this warning.\n"
     ]
    },
    {
     "data": {
      "image/png": "[encoded data removed]",
      "text/plain": [
       "<PIL.Image.Image image mode=L size=224x56>"
      ]
     },
     "metadata": {},
     "output_type": "display_data"
    },
    {
     "name": "stdout",
     "output_type": "stream",
     "text": [
      "600/600 [==============================] - 34s 56ms/step - loss: -1.9748 - val_loss: -1.8618\n",
      "600/600 [==============================] - 36s 60ms/step - loss: -1.9754 - val_loss: -1.8474\n",
      "600/600 [==============================] - 35s 58ms/step - loss: -1.9789 - val_loss: -1.8855\n",
      "600/600 [==============================] - 36s 59ms/step - loss: -1.9798 - val_loss: -1.8693\n",
      "600/600 [==============================] - 36s 60ms/step - loss: -1.9814 - val_loss: -1.8927\n",
      "600/600 [==============================] - 36s 59ms/step - loss: -1.9815 - val_loss: -1.8841\n",
      "600/600 [==============================] - 35s 59ms/step - loss: -1.9845 - val_loss: -1.8846\n",
      "600/600 [==============================] - 36s 59ms/step - loss: -1.9818 - val_loss: -1.8912\n",
      "600/600 [==============================] - 35s 59ms/step - loss: -1.9871 - val_loss: -1.8775\n",
      "600/600 [==============================] - 35s 58ms/step - loss: -1.9872 - val_loss: -1.8766\n",
      "313/313 [==============================] - 1s 2ms/step\n",
      "313/313 [==============================] - 2s 5ms/step\n"
     ]
    },
    {
     "name": "stderr",
     "output_type": "stream",
     "text": [
      "WARNING:imageio:Lossy conversion from float64 to uint8. Range [0.0, 255.0]. Convert image to uint8 prior to saving to suppress this warning.\n",
      "WARNING:imageio:Lossy conversion from float64 to uint8. Range [0.0, 255.0]. Convert image to uint8 prior to saving to suppress this warning.\n",
      "WARNING:imageio:Lossy conversion from float64 to uint8. Range [0.0, 255.0]. Convert image to uint8 prior to saving to suppress this warning.\n",
      "WARNING:imageio:Lossy conversion from float64 to uint8. Range [0.0, 255.0]. Convert image to uint8 prior to saving to suppress this warning.\n",
      "WARNING:imageio:Lossy conversion from float64 to uint8. Range [0.0, 255.0]. Convert image to uint8 prior to saving to suppress this warning.\n",
      "WARNING:imageio:Lossy conversion from float64 to uint8. Range [0.0, 255.0]. Convert image to uint8 prior to saving to suppress this warning.\n",
      "WARNING:imageio:Lossy conversion from float64 to uint8. Range [0.0, 255.0]. Convert image to uint8 prior to saving to suppress this warning.\n",
      "WARNING:imageio:Lossy conversion from float64 to uint8. Range [0.0, 255.0]. Convert image to uint8 prior to saving to suppress this warning.\n"
     ]
    },
    {
     "data": {
      "image/png": "[encoded data removed]",
      "text/plain": [
       "<PIL.Image.Image image mode=L size=224x56>"
      ]
     },
     "metadata": {},
     "output_type": "display_data"
    },
    {
     "name": "stdout",
     "output_type": "stream",
     "text": [
      "600/600 [==============================] - 35s 59ms/step - loss: -1.9901 - val_loss: -1.8682\n",
      "600/600 [==============================] - 37s 62ms/step - loss: -1.9914 - val_loss: -1.8715\n",
      "600/600 [==============================] - 38s 63ms/step - loss: -1.9942 - val_loss: -1.8629\n",
      "600/600 [==============================] - 37s 61ms/step - loss: -1.9958 - val_loss: -1.8977\n",
      "600/600 [==============================] - 35s 58ms/step - loss: -1.9949 - val_loss: -1.8907\n",
      "600/600 [==============================] - 34s 57ms/step - loss: -1.9965 - val_loss: -1.8956\n",
      "600/600 [==============================] - 34s 57ms/step - loss: -1.9970 - val_loss: -1.8908\n",
      "600/600 [==============================] - 35s 58ms/step - loss: -2.0001 - val_loss: -1.8924\n",
      "600/600 [==============================] - 34s 57ms/step - loss: -2.0004 - val_loss: -1.8991\n"
     ]
    }
   ],
   "source": [
    "if not os.path.exists('compare'):\n",
    "    os.mkdir('compare')\n",
    "\n",
    "early_stopping = EarlyStopping(monitor='val_loss', patience=10, verbose=1)\n",
    "reduce_lr = ReduceLROnPlateau(monitor='val_loss', factor=0.5, patience=5, verbose=1, min_lr=1e-6)\n",
    "checkpoint_callback = ModelCheckpoint(\n",
    "    filepath = file_name,  # 模型保存路径\n",
    "    save_freq='epoch',  # 保存频率为每个epoch\n",
    "    period=10  # 每隔10个epoch保存一次模型\n",
    ")\n",
    "\n",
    "callbacks = [early_stopping, reduce_lr]\n",
    "\n",
    "for i in range(epochs):\n",
    "  vae.fit(x_train,\n",
    "      shuffle=True,\n",
    "      epochs=1,\n",
    "      batch_size=batch_size,\n",
    "      validation_data=(x_test, None))#,\n",
    "      #callbacks=callbacks)\n",
    "\n",
    "  if i % 10 == 0:\n",
    "    z_min_encoded, z_max_encoded = encoder.predict(x_test)\n",
    "    z_encoded = sampling([z_min_encoded, z_max_encoded])\n",
    "    recon = generator.predict(z_encoded)\n",
    "\n",
    "#     x_test_encoded = encoder.predict(x_test)\n",
    "#     recon = generator.predict(x_test_encoded)\n",
    "    n = 8\n",
    "    fig = np.zeros((img_dim * 2, img_dim * n))\n",
    "    for m in range(n):\n",
    "        x_test_origin = x_test[m].reshape((img_dim, img_dim))\n",
    "        fig[0 * img_dim: (0 + 1) * img_dim,\n",
    "            m * img_dim: (m + 1) * img_dim] = x_test_origin\n",
    "\n",
    "        x_test_generate = recon[m].reshape((img_dim, img_dim))\n",
    "        fig[1 * img_dim: (1 + 1) * img_dim,\n",
    "            m * img_dim: (m + 1) * img_dim] = x_test_generate\n",
    "\n",
    "        fit_path = './compare/epoch' + str(i) + '_compare.png'\n",
    "        imageio.imwrite(fit_path,fig * 255)\n",
    "\n",
    "    # 将numpy数组转换为PIL Image对象\n",
    "    fig_pil = Image.fromarray((fig * 255).astype(np.uint8))\n",
    "\n",
    "    # 显示图像\n",
    "    display(fig_pil)\n",
    "\n",
    "# 将模型保存到文件\n",
    "vae.save(file_name)"
   ]
  },
  {
   "cell_type": "code",
   "execution_count": 58,
   "metadata": {
    "colab": {
     "base_uri": "https://localhost:8080/"
    },
    "id": "LLLpq11HDlcw",
    "outputId": "5db8b82e-0b21-454c-f153-6c796add782e"
   },
   "outputs": [
    {
     "name": "stdout",
     "output_type": "stream",
     "text": [
      "1875/1875 [==============================] - 4s 2ms/step\n",
      "1875/1875 [==============================] - 2s 641us/step\n",
      "313/313 [==============================] - 1s 2ms/step\n",
      "313/313 [==============================] - 0s 601us/step\n"
     ]
    }
   ],
   "source": [
    "max = K.eval(uniform_layer.max_val)\n",
    "min = K.eval(uniform_layer.min_val)\n",
    "means=0.5*(max-min)\n",
    "# means = K.eval(beta_layer.mean)\n",
    "# means = K.eval(gaussian.mean)\n",
    "# means=K.eval(uniform_layer.max_val)\n",
    "# x_train_encoded = encoder.predict(x_train)\n",
    "x_train_encoded,x_train_encoded2=encoder.predict(x_train)\n",
    "y_train_pred = classifier.predict(x_train_encoded).argmax(axis=1)\n",
    "# x_test_encoded = encoder.predict(x_test)\n",
    "x_test_encoded,x_test_encoded2=encoder.predict(x_test)\n",
    "y_test_pred = classifier.predict(x_test_encoded).argmax(axis=1)"
   ]
  },
  {
   "cell_type": "code",
   "execution_count": 59,
   "metadata": {
    "id": "7_e5Q99_DvBm"
   },
   "outputs": [],
   "source": [
    "def cluster_sample(path, category=0):\n",
    "    \"\"\"观察被模型聚为同一类的样本\n",
    "    \"\"\"\n",
    "    n = 8\n",
    "    figure = np.zeros((img_dim * n, img_dim * n))\n",
    "    idxs = np.where(y_train_pred == category)[0]\n",
    "    for i in range(n):\n",
    "        for j in range(n):\n",
    "            digit = x_train[np.random.choice(idxs)]\n",
    "            digit = digit.reshape((img_dim, img_dim))\n",
    "            figure[i * img_dim: (i + 1) * img_dim,\n",
    "            j * img_dim: (j + 1) * img_dim] = digit\n",
    "    imageio.imwrite(path, figure * 255)"
   ]
  },
  {
   "cell_type": "code",
   "execution_count": 60,
   "metadata": {
    "id": "FwAm5JLpDwty"
   },
   "outputs": [],
   "source": [
    "def random_sample(path, category=0, std=1):\n",
    "    \"\"\"按照聚类结果进行条件随机生成\n",
    "    \"\"\"\n",
    "    n = 8\n",
    "    figure = np.zeros((img_dim * n, img_dim * n))\n",
    "    for i in range(n):\n",
    "        for j in range(n):\n",
    "            noise_shape = (1, latent_dim)\n",
    "            z_sample = np.array(np.random.randn(*noise_shape)) * std + means[category]\n",
    "            x_recon = generator.predict(z_sample)\n",
    "            digit = x_recon[0].reshape((img_dim, img_dim))\n",
    "            figure[i * img_dim: (i + 1) * img_dim,\n",
    "            j * img_dim: (j + 1) * img_dim] = digit\n",
    "    imageio.imwrite(path, figure * 255)"
   ]
  },
  {
   "cell_type": "code",
   "execution_count": 61,
   "metadata": {
    "colab": {
     "base_uri": "https://localhost:8080/"
    },
    "id": "yc-x9znHD3W_",
    "outputId": "ac93ba27-735d-4ebc-c8ee-003b7fcfdc46"
   },
   "outputs": [
    {
     "name": "stderr",
     "output_type": "stream",
     "text": [
      "WARNING:imageio:Lossy conversion from float64 to uint8. Range [0.0, 255.0]. Convert image to uint8 prior to saving to suppress this warning.\n"
     ]
    },
    {
     "name": "stdout",
     "output_type": "stream",
     "text": [
      "1/1 [==============================] - 0s 25ms/step\n",
      "1/1 [==============================] - 0s 16ms/step\n",
      "1/1 [==============================] - 0s 15ms/step\n",
      "1/1 [==============================] - 0s 15ms/step\n",
      "1/1 [==============================] - 0s 15ms/step\n",
      "1/1 [==============================] - 0s 17ms/step\n",
      "1/1 [==============================] - 0s 16ms/step\n",
      "1/1 [==============================] - 0s 15ms/step\n",
      "1/1 [==============================] - 0s 15ms/step\n",
      "1/1 [==============================] - 0s 15ms/step\n",
      "1/1 [==============================] - 0s 16ms/step\n",
      "1/1 [==============================] - 0s 19ms/step\n",
      "1/1 [==============================] - 0s 16ms/step\n",
      "1/1 [==============================] - 0s 15ms/step\n",
      "1/1 [==============================] - 0s 16ms/step\n",
      "1/1 [==============================] - 0s 16ms/step\n",
      "1/1 [==============================] - 0s 15ms/step\n",
      "1/1 [==============================] - 0s 17ms/step\n",
      "1/1 [==============================] - 0s 16ms/step\n",
      "1/1 [==============================] - 0s 16ms/step\n",
      "1/1 [==============================] - 0s 17ms/step\n",
      "1/1 [==============================] - 0s 18ms/step\n",
      "1/1 [==============================] - 0s 16ms/step\n",
      "1/1 [==============================] - 0s 18ms/step\n",
      "1/1 [==============================] - 0s 16ms/step\n",
      "1/1 [==============================] - 0s 16ms/step\n",
      "1/1 [==============================] - 0s 17ms/step\n",
      "1/1 [==============================] - 0s 19ms/step\n",
      "1/1 [==============================] - 0s 17ms/step\n",
      "1/1 [==============================] - 0s 16ms/step\n",
      "1/1 [==============================] - 0s 16ms/step\n",
      "1/1 [==============================] - 0s 16ms/step\n",
      "1/1 [==============================] - 0s 17ms/step\n",
      "1/1 [==============================] - 0s 15ms/step\n",
      "1/1 [==============================] - 0s 15ms/step\n",
      "1/1 [==============================] - 0s 16ms/step\n",
      "1/1 [==============================] - 0s 19ms/step\n",
      "1/1 [==============================] - 0s 21ms/step\n",
      "1/1 [==============================] - 0s 15ms/step\n",
      "1/1 [==============================] - 0s 16ms/step\n",
      "1/1 [==============================] - 0s 18ms/step\n",
      "1/1 [==============================] - 0s 16ms/step\n",
      "1/1 [==============================] - 0s 15ms/step\n",
      "1/1 [==============================] - 0s 18ms/step\n",
      "1/1 [==============================] - 0s 16ms/step\n",
      "1/1 [==============================] - 0s 16ms/step\n",
      "1/1 [==============================] - 0s 15ms/step\n",
      "1/1 [==============================] - 0s 14ms/step\n",
      "1/1 [==============================] - 0s 15ms/step\n",
      "1/1 [==============================] - 0s 15ms/step\n",
      "1/1 [==============================] - 0s 15ms/step\n",
      "1/1 [==============================] - 0s 16ms/step\n",
      "1/1 [==============================] - 0s 14ms/step\n",
      "1/1 [==============================] - 0s 16ms/step\n",
      "1/1 [==============================] - 0s 18ms/step\n",
      "1/1 [==============================] - 0s 18ms/step\n",
      "1/1 [==============================] - 0s 15ms/step\n",
      "1/1 [==============================] - 0s 16ms/step\n",
      "1/1 [==============================] - 0s 17ms/step\n",
      "1/1 [==============================] - 0s 16ms/step\n",
      "1/1 [==============================] - 0s 16ms/step\n",
      "1/1 [==============================] - 0s 16ms/step\n",
      "1/1 [==============================] - 0s 15ms/step\n",
      "1/1 [==============================] - 0s 15ms/step\n"
     ]
    },
    {
     "name": "stderr",
     "output_type": "stream",
     "text": [
      "WARNING:imageio:Lossy conversion from float64 to uint8. Range [0.0, 254.99998480081558]. Convert image to uint8 prior to saving to suppress this warning.\n",
      "WARNING:imageio:Lossy conversion from float64 to uint8. Range [0.0, 255.0]. Convert image to uint8 prior to saving to suppress this warning.\n"
     ]
    },
    {
     "name": "stdout",
     "output_type": "stream",
     "text": [
      "1/1 [==============================] - 0s 15ms/step\n",
      "1/1 [==============================] - 0s 16ms/step\n",
      "1/1 [==============================] - 0s 15ms/step\n",
      "1/1 [==============================] - 0s 14ms/step\n",
      "1/1 [==============================] - 0s 14ms/step\n",
      "1/1 [==============================] - 0s 16ms/step\n",
      "1/1 [==============================] - 0s 14ms/step\n",
      "1/1 [==============================] - 0s 15ms/step\n",
      "1/1 [==============================] - 0s 16ms/step\n",
      "1/1 [==============================] - 0s 15ms/step\n",
      "1/1 [==============================] - 0s 16ms/step\n",
      "1/1 [==============================] - 0s 15ms/step\n",
      "1/1 [==============================] - 0s 16ms/step\n",
      "1/1 [==============================] - 0s 15ms/step\n",
      "1/1 [==============================] - 0s 15ms/step\n",
      "1/1 [==============================] - 0s 15ms/step\n",
      "1/1 [==============================] - 0s 15ms/step\n",
      "1/1 [==============================] - 0s 16ms/step\n",
      "1/1 [==============================] - 0s 15ms/step\n",
      "1/1 [==============================] - 0s 15ms/step\n",
      "1/1 [==============================] - 0s 17ms/step\n",
      "1/1 [==============================] - 0s 17ms/step\n",
      "1/1 [==============================] - 0s 15ms/step\n",
      "1/1 [==============================] - 0s 14ms/step\n",
      "1/1 [==============================] - 0s 17ms/step\n",
      "1/1 [==============================] - 0s 14ms/step\n",
      "1/1 [==============================] - 0s 16ms/step\n",
      "1/1 [==============================] - 0s 15ms/step\n",
      "1/1 [==============================] - 0s 15ms/step\n",
      "1/1 [==============================] - 0s 16ms/step\n",
      "1/1 [==============================] - 0s 16ms/step\n",
      "1/1 [==============================] - 0s 16ms/step\n",
      "1/1 [==============================] - 0s 15ms/step\n",
      "1/1 [==============================] - 0s 16ms/step\n",
      "1/1 [==============================] - 0s 15ms/step\n",
      "1/1 [==============================] - 0s 15ms/step\n",
      "1/1 [==============================] - 0s 15ms/step\n",
      "1/1 [==============================] - 0s 15ms/step\n",
      "1/1 [==============================] - 0s 16ms/step\n",
      "1/1 [==============================] - 0s 17ms/step\n",
      "1/1 [==============================] - 0s 15ms/step\n",
      "1/1 [==============================] - 0s 16ms/step\n",
      "1/1 [==============================] - 0s 15ms/step\n",
      "1/1 [==============================] - 0s 16ms/step\n",
      "1/1 [==============================] - 0s 16ms/step\n",
      "1/1 [==============================] - 0s 16ms/step\n",
      "1/1 [==============================] - 0s 15ms/step\n",
      "1/1 [==============================] - 0s 17ms/step\n",
      "1/1 [==============================] - 0s 15ms/step\n",
      "1/1 [==============================] - 0s 15ms/step\n",
      "1/1 [==============================] - 0s 14ms/step\n",
      "1/1 [==============================] - 0s 15ms/step\n",
      "1/1 [==============================] - 0s 22ms/step\n",
      "1/1 [==============================] - 0s 16ms/step\n",
      "1/1 [==============================] - 0s 14ms/step\n",
      "1/1 [==============================] - 0s 14ms/step\n",
      "1/1 [==============================] - 0s 14ms/step\n",
      "1/1 [==============================] - 0s 15ms/step\n",
      "1/1 [==============================] - 0s 15ms/step\n",
      "1/1 [==============================] - 0s 15ms/step\n",
      "1/1 [==============================] - 0s 16ms/step\n",
      "1/1 [==============================] - 0s 16ms/step\n",
      "1/1 [==============================] - 0s 14ms/step\n",
      "1/1 [==============================] - 0s 15ms/step\n"
     ]
    },
    {
     "name": "stderr",
     "output_type": "stream",
     "text": [
      "WARNING:imageio:Lossy conversion from float64 to uint8. Range [0.0, 255.0]. Convert image to uint8 prior to saving to suppress this warning.\n",
      "WARNING:imageio:Lossy conversion from float64 to uint8. Range [0.0, 255.0]. Convert image to uint8 prior to saving to suppress this warning.\n"
     ]
    },
    {
     "name": "stdout",
     "output_type": "stream",
     "text": [
      "1/1 [==============================] - 0s 16ms/step\n",
      "1/1 [==============================] - 0s 16ms/step\n",
      "1/1 [==============================] - 0s 16ms/step\n",
      "1/1 [==============================] - 0s 15ms/step\n",
      "1/1 [==============================] - 0s 15ms/step\n",
      "1/1 [==============================] - 0s 15ms/step\n",
      "1/1 [==============================] - 0s 16ms/step\n",
      "1/1 [==============================] - 0s 15ms/step\n",
      "1/1 [==============================] - 0s 14ms/step\n",
      "1/1 [==============================] - 0s 15ms/step\n",
      "1/1 [==============================] - 0s 16ms/step\n",
      "1/1 [==============================] - 0s 15ms/step\n",
      "1/1 [==============================] - 0s 16ms/step\n",
      "1/1 [==============================] - 0s 16ms/step\n",
      "1/1 [==============================] - 0s 22ms/step\n",
      "1/1 [==============================] - 0s 14ms/step\n",
      "1/1 [==============================] - 0s 15ms/step\n",
      "1/1 [==============================] - 0s 16ms/step\n",
      "1/1 [==============================] - 0s 15ms/step\n",
      "1/1 [==============================] - 0s 17ms/step\n",
      "1/1 [==============================] - 0s 16ms/step\n",
      "1/1 [==============================] - 0s 18ms/step\n",
      "1/1 [==============================] - 0s 15ms/step\n",
      "1/1 [==============================] - 0s 14ms/step\n",
      "1/1 [==============================] - 0s 14ms/step\n",
      "1/1 [==============================] - 0s 15ms/step\n",
      "1/1 [==============================] - 0s 16ms/step\n",
      "1/1 [==============================] - 0s 16ms/step\n",
      "1/1 [==============================] - 0s 16ms/step\n",
      "1/1 [==============================] - 0s 15ms/step\n",
      "1/1 [==============================] - 0s 20ms/step\n",
      "1/1 [==============================] - 0s 17ms/step\n",
      "1/1 [==============================] - 0s 17ms/step\n",
      "1/1 [==============================] - 0s 16ms/step\n",
      "1/1 [==============================] - 0s 17ms/step\n",
      "1/1 [==============================] - 0s 15ms/step\n",
      "1/1 [==============================] - 0s 16ms/step\n",
      "1/1 [==============================] - 0s 15ms/step\n",
      "1/1 [==============================] - 0s 15ms/step\n",
      "1/1 [==============================] - 0s 16ms/step\n",
      "1/1 [==============================] - 0s 15ms/step\n",
      "1/1 [==============================] - 0s 15ms/step\n",
      "1/1 [==============================] - 0s 16ms/step\n",
      "1/1 [==============================] - 0s 19ms/step\n",
      "1/1 [==============================] - 0s 16ms/step\n",
      "1/1 [==============================] - 0s 17ms/step\n",
      "1/1 [==============================] - 0s 17ms/step\n",
      "1/1 [==============================] - 0s 15ms/step\n",
      "1/1 [==============================] - 0s 15ms/step\n",
      "1/1 [==============================] - 0s 14ms/step\n",
      "1/1 [==============================] - 0s 16ms/step\n",
      "1/1 [==============================] - 0s 15ms/step\n",
      "1/1 [==============================] - 0s 15ms/step\n",
      "1/1 [==============================] - 0s 16ms/step\n",
      "1/1 [==============================] - 0s 16ms/step\n",
      "1/1 [==============================] - 0s 15ms/step\n",
      "1/1 [==============================] - 0s 15ms/step\n",
      "1/1 [==============================] - 0s 15ms/step\n",
      "1/1 [==============================] - 0s 17ms/step\n",
      "1/1 [==============================] - 0s 15ms/step\n",
      "1/1 [==============================] - 0s 16ms/step\n",
      "1/1 [==============================] - 0s 16ms/step\n",
      "1/1 [==============================] - 0s 16ms/step\n",
      "1/1 [==============================] - 0s 15ms/step\n"
     ]
    },
    {
     "name": "stderr",
     "output_type": "stream",
     "text": [
      "WARNING:imageio:Lossy conversion from float64 to uint8. Range [0.0, 255.0]. Convert image to uint8 prior to saving to suppress this warning.\n",
      "WARNING:imageio:Lossy conversion from float64 to uint8. Range [0.0, 255.0]. Convert image to uint8 prior to saving to suppress this warning.\n"
     ]
    },
    {
     "name": "stdout",
     "output_type": "stream",
     "text": [
      "1/1 [==============================] - 0s 16ms/step\n",
      "1/1 [==============================] - 0s 15ms/step\n",
      "1/1 [==============================] - 0s 15ms/step\n",
      "1/1 [==============================] - 0s 15ms/step\n",
      "1/1 [==============================] - 0s 16ms/step\n",
      "1/1 [==============================] - 0s 15ms/step\n",
      "1/1 [==============================] - 0s 15ms/step\n",
      "1/1 [==============================] - 0s 16ms/step\n",
      "1/1 [==============================] - 0s 17ms/step\n",
      "1/1 [==============================] - 0s 16ms/step\n",
      "1/1 [==============================] - 0s 16ms/step\n",
      "1/1 [==============================] - 0s 17ms/step\n",
      "1/1 [==============================] - 0s 17ms/step\n",
      "1/1 [==============================] - 0s 15ms/step\n",
      "1/1 [==============================] - 0s 16ms/step\n",
      "1/1 [==============================] - 0s 15ms/step\n",
      "1/1 [==============================] - 0s 15ms/step\n",
      "1/1 [==============================] - 0s 16ms/step\n",
      "1/1 [==============================] - 0s 16ms/step\n",
      "1/1 [==============================] - 0s 16ms/step\n",
      "1/1 [==============================] - 0s 15ms/step\n",
      "1/1 [==============================] - 0s 15ms/step\n",
      "1/1 [==============================] - 0s 16ms/step\n",
      "1/1 [==============================] - 0s 16ms/step\n",
      "1/1 [==============================] - 0s 15ms/step\n",
      "1/1 [==============================] - 0s 16ms/step\n",
      "1/1 [==============================] - 0s 16ms/step\n",
      "1/1 [==============================] - 0s 15ms/step\n",
      "1/1 [==============================] - 0s 16ms/step\n",
      "1/1 [==============================] - 0s 16ms/step\n",
      "1/1 [==============================] - 0s 17ms/step\n",
      "1/1 [==============================] - 0s 15ms/step\n",
      "1/1 [==============================] - 0s 16ms/step\n",
      "1/1 [==============================] - 0s 15ms/step\n",
      "1/1 [==============================] - 0s 15ms/step\n",
      "1/1 [==============================] - 0s 15ms/step\n",
      "1/1 [==============================] - 0s 16ms/step\n",
      "1/1 [==============================] - 0s 16ms/step\n",
      "1/1 [==============================] - 0s 17ms/step\n",
      "1/1 [==============================] - 0s 20ms/step\n",
      "1/1 [==============================] - 0s 15ms/step\n",
      "1/1 [==============================] - 0s 15ms/step\n",
      "1/1 [==============================] - 0s 15ms/step\n",
      "1/1 [==============================] - 0s 16ms/step\n",
      "1/1 [==============================] - 0s 17ms/step\n",
      "1/1 [==============================] - 0s 16ms/step\n",
      "1/1 [==============================] - 0s 16ms/step\n",
      "1/1 [==============================] - 0s 16ms/step\n",
      "1/1 [==============================] - 0s 17ms/step\n",
      "1/1 [==============================] - 0s 15ms/step\n",
      "1/1 [==============================] - 0s 16ms/step\n",
      "1/1 [==============================] - 0s 16ms/step\n",
      "1/1 [==============================] - 0s 15ms/step\n",
      "1/1 [==============================] - 0s 16ms/step\n",
      "1/1 [==============================] - 0s 17ms/step\n",
      "1/1 [==============================] - 0s 17ms/step\n",
      "1/1 [==============================] - 0s 16ms/step\n",
      "1/1 [==============================] - 0s 15ms/step\n",
      "1/1 [==============================] - 0s 16ms/step\n",
      "1/1 [==============================] - 0s 16ms/step\n",
      "1/1 [==============================] - 0s 16ms/step\n",
      "1/1 [==============================] - 0s 15ms/step\n",
      "1/1 [==============================] - 0s 16ms/step\n",
      "1/1 [==============================] - 0s 16ms/step\n"
     ]
    },
    {
     "name": "stderr",
     "output_type": "stream",
     "text": [
      "WARNING:imageio:Lossy conversion from float64 to uint8. Range [0.0, 255.0]. Convert image to uint8 prior to saving to suppress this warning.\n",
      "WARNING:imageio:Lossy conversion from float64 to uint8. Range [0.0, 255.0]. Convert image to uint8 prior to saving to suppress this warning.\n"
     ]
    },
    {
     "name": "stdout",
     "output_type": "stream",
     "text": [
      "1/1 [==============================] - 0s 17ms/step\n",
      "1/1 [==============================] - 0s 16ms/step\n",
      "1/1 [==============================] - 0s 16ms/step\n",
      "1/1 [==============================] - 0s 16ms/step\n",
      "1/1 [==============================] - 0s 15ms/step\n",
      "1/1 [==============================] - 0s 15ms/step\n",
      "1/1 [==============================] - 0s 16ms/step\n",
      "1/1 [==============================] - 0s 17ms/step\n",
      "1/1 [==============================] - 0s 16ms/step\n",
      "1/1 [==============================] - 0s 17ms/step\n",
      "1/1 [==============================] - 0s 16ms/step\n",
      "1/1 [==============================] - 0s 16ms/step\n",
      "1/1 [==============================] - 0s 16ms/step\n",
      "1/1 [==============================] - 0s 16ms/step\n",
      "1/1 [==============================] - 0s 15ms/step\n",
      "1/1 [==============================] - 0s 16ms/step\n",
      "1/1 [==============================] - 0s 16ms/step\n",
      "1/1 [==============================] - 0s 16ms/step\n",
      "1/1 [==============================] - 0s 15ms/step\n",
      "1/1 [==============================] - 0s 15ms/step\n",
      "1/1 [==============================] - 0s 15ms/step\n",
      "1/1 [==============================] - 0s 15ms/step\n",
      "1/1 [==============================] - 0s 15ms/step\n",
      "1/1 [==============================] - 0s 17ms/step\n",
      "1/1 [==============================] - 0s 16ms/step\n",
      "1/1 [==============================] - 0s 15ms/step\n",
      "1/1 [==============================] - 0s 17ms/step\n",
      "1/1 [==============================] - 0s 15ms/step\n",
      "1/1 [==============================] - 0s 18ms/step\n",
      "1/1 [==============================] - 0s 16ms/step\n",
      "1/1 [==============================] - 0s 16ms/step\n",
      "1/1 [==============================] - 0s 16ms/step\n",
      "1/1 [==============================] - 0s 15ms/step\n",
      "1/1 [==============================] - 0s 17ms/step\n",
      "1/1 [==============================] - 0s 16ms/step\n",
      "1/1 [==============================] - 0s 16ms/step\n",
      "1/1 [==============================] - 0s 17ms/step\n",
      "1/1 [==============================] - 0s 17ms/step\n",
      "1/1 [==============================] - 0s 16ms/step\n",
      "1/1 [==============================] - 0s 15ms/step\n",
      "1/1 [==============================] - 0s 15ms/step\n",
      "1/1 [==============================] - 0s 15ms/step\n",
      "1/1 [==============================] - 0s 16ms/step\n",
      "1/1 [==============================] - 0s 16ms/step\n",
      "1/1 [==============================] - 0s 17ms/step\n",
      "1/1 [==============================] - 0s 16ms/step\n",
      "1/1 [==============================] - 0s 16ms/step\n",
      "1/1 [==============================] - 0s 15ms/step\n",
      "1/1 [==============================] - 0s 17ms/step\n",
      "1/1 [==============================] - 0s 15ms/step\n",
      "1/1 [==============================] - 0s 15ms/step\n",
      "1/1 [==============================] - 0s 15ms/step\n",
      "1/1 [==============================] - 0s 16ms/step\n",
      "1/1 [==============================] - 0s 16ms/step\n",
      "1/1 [==============================] - 0s 17ms/step\n",
      "1/1 [==============================] - 0s 16ms/step\n",
      "1/1 [==============================] - 0s 16ms/step\n",
      "1/1 [==============================] - 0s 16ms/step\n",
      "1/1 [==============================] - 0s 16ms/step\n",
      "1/1 [==============================] - 0s 16ms/step\n",
      "1/1 [==============================] - 0s 15ms/step\n",
      "1/1 [==============================] - 0s 15ms/step\n",
      "1/1 [==============================] - 0s 16ms/step\n",
      "1/1 [==============================] - 0s 17ms/step\n"
     ]
    },
    {
     "name": "stderr",
     "output_type": "stream",
     "text": [
      "WARNING:imageio:Lossy conversion from float64 to uint8. Range [0.0, 255.0]. Convert image to uint8 prior to saving to suppress this warning.\n",
      "WARNING:imageio:Lossy conversion from float64 to uint8. Range [0.0, 255.0]. Convert image to uint8 prior to saving to suppress this warning.\n"
     ]
    },
    {
     "name": "stdout",
     "output_type": "stream",
     "text": [
      "1/1 [==============================] - 0s 21ms/step\n",
      "1/1 [==============================] - 0s 16ms/step\n",
      "1/1 [==============================] - 0s 15ms/step\n",
      "1/1 [==============================] - 0s 15ms/step\n",
      "1/1 [==============================] - 0s 15ms/step\n",
      "1/1 [==============================] - 0s 16ms/step\n",
      "1/1 [==============================] - 0s 16ms/step\n",
      "1/1 [==============================] - 0s 15ms/step\n",
      "1/1 [==============================] - 0s 16ms/step\n",
      "1/1 [==============================] - 0s 17ms/step\n",
      "1/1 [==============================] - 0s 15ms/step\n",
      "1/1 [==============================] - 0s 16ms/step\n",
      "1/1 [==============================] - 0s 16ms/step\n",
      "1/1 [==============================] - 0s 15ms/step\n",
      "1/1 [==============================] - 0s 15ms/step\n",
      "1/1 [==============================] - 0s 16ms/step\n",
      "1/1 [==============================] - 0s 15ms/step\n",
      "1/1 [==============================] - 0s 16ms/step\n",
      "1/1 [==============================] - 0s 17ms/step\n",
      "1/1 [==============================] - 0s 16ms/step\n",
      "1/1 [==============================] - 0s 17ms/step\n",
      "1/1 [==============================] - 0s 14ms/step\n",
      "1/1 [==============================] - 0s 16ms/step\n",
      "1/1 [==============================] - 0s 15ms/step\n",
      "1/1 [==============================] - 0s 16ms/step\n",
      "1/1 [==============================] - 0s 17ms/step\n",
      "1/1 [==============================] - 0s 15ms/step\n",
      "1/1 [==============================] - 0s 15ms/step\n",
      "1/1 [==============================] - 0s 16ms/step\n",
      "1/1 [==============================] - 0s 17ms/step\n",
      "1/1 [==============================] - 0s 16ms/step\n",
      "1/1 [==============================] - 0s 17ms/step\n",
      "1/1 [==============================] - 0s 16ms/step\n",
      "1/1 [==============================] - 0s 17ms/step\n",
      "1/1 [==============================] - 0s 16ms/step\n",
      "1/1 [==============================] - 0s 15ms/step\n",
      "1/1 [==============================] - 0s 15ms/step\n",
      "1/1 [==============================] - 0s 15ms/step\n",
      "1/1 [==============================] - 0s 16ms/step\n",
      "1/1 [==============================] - 0s 16ms/step\n",
      "1/1 [==============================] - 0s 17ms/step\n",
      "1/1 [==============================] - 0s 15ms/step\n",
      "1/1 [==============================] - 0s 16ms/step\n",
      "1/1 [==============================] - 0s 16ms/step\n",
      "1/1 [==============================] - 0s 16ms/step\n",
      "1/1 [==============================] - 0s 16ms/step\n",
      "1/1 [==============================] - 0s 17ms/step\n",
      "1/1 [==============================] - 0s 16ms/step\n",
      "1/1 [==============================] - 0s 14ms/step\n",
      "1/1 [==============================] - 0s 16ms/step\n",
      "1/1 [==============================] - 0s 17ms/step\n",
      "1/1 [==============================] - 0s 15ms/step\n",
      "1/1 [==============================] - 0s 16ms/step\n",
      "1/1 [==============================] - 0s 15ms/step\n",
      "1/1 [==============================] - 0s 16ms/step\n",
      "1/1 [==============================] - 0s 18ms/step\n",
      "1/1 [==============================] - 0s 15ms/step\n",
      "1/1 [==============================] - 0s 15ms/step\n",
      "1/1 [==============================] - 0s 16ms/step\n",
      "1/1 [==============================] - 0s 16ms/step\n",
      "1/1 [==============================] - 0s 16ms/step\n",
      "1/1 [==============================] - 0s 15ms/step\n",
      "1/1 [==============================] - 0s 16ms/step\n",
      "1/1 [==============================] - 0s 15ms/step\n"
     ]
    },
    {
     "name": "stderr",
     "output_type": "stream",
     "text": [
      "WARNING:imageio:Lossy conversion from float64 to uint8. Range [0.0, 255.0]. Convert image to uint8 prior to saving to suppress this warning.\n",
      "WARNING:imageio:Lossy conversion from float64 to uint8. Range [0.0, 255.0]. Convert image to uint8 prior to saving to suppress this warning.\n"
     ]
    },
    {
     "name": "stdout",
     "output_type": "stream",
     "text": [
      "1/1 [==============================] - 0s 15ms/step\n",
      "1/1 [==============================] - 0s 15ms/step\n",
      "1/1 [==============================] - 0s 16ms/step\n",
      "1/1 [==============================] - 0s 15ms/step\n",
      "1/1 [==============================] - 0s 17ms/step\n",
      "1/1 [==============================] - 0s 16ms/step\n",
      "1/1 [==============================] - 0s 15ms/step\n",
      "1/1 [==============================] - 0s 16ms/step\n",
      "1/1 [==============================] - 0s 15ms/step\n",
      "1/1 [==============================] - 0s 16ms/step\n",
      "1/1 [==============================] - 0s 15ms/step\n",
      "1/1 [==============================] - 0s 15ms/step\n",
      "1/1 [==============================] - 0s 16ms/step\n",
      "1/1 [==============================] - 0s 15ms/step\n",
      "1/1 [==============================] - 0s 16ms/step\n",
      "1/1 [==============================] - 0s 15ms/step\n",
      "1/1 [==============================] - 0s 17ms/step\n",
      "1/1 [==============================] - 0s 16ms/step\n",
      "1/1 [==============================] - 0s 17ms/step\n",
      "1/1 [==============================] - 0s 15ms/step\n",
      "1/1 [==============================] - 0s 17ms/step\n",
      "1/1 [==============================] - 0s 15ms/step\n",
      "1/1 [==============================] - 0s 16ms/step\n",
      "1/1 [==============================] - 0s 15ms/step\n",
      "1/1 [==============================] - 0s 16ms/step\n",
      "1/1 [==============================] - 0s 16ms/step\n",
      "1/1 [==============================] - 0s 16ms/step\n",
      "1/1 [==============================] - 0s 15ms/step\n",
      "1/1 [==============================] - 0s 16ms/step\n",
      "1/1 [==============================] - 0s 16ms/step\n",
      "1/1 [==============================] - 0s 15ms/step\n",
      "1/1 [==============================] - 0s 15ms/step\n",
      "1/1 [==============================] - 0s 14ms/step\n",
      "1/1 [==============================] - 0s 15ms/step\n",
      "1/1 [==============================] - 0s 16ms/step\n",
      "1/1 [==============================] - 0s 16ms/step\n",
      "1/1 [==============================] - 0s 15ms/step\n",
      "1/1 [==============================] - 0s 15ms/step\n",
      "1/1 [==============================] - 0s 15ms/step\n",
      "1/1 [==============================] - 0s 16ms/step\n",
      "1/1 [==============================] - 0s 15ms/step\n",
      "1/1 [==============================] - 0s 15ms/step\n",
      "1/1 [==============================] - 0s 16ms/step\n",
      "1/1 [==============================] - 0s 16ms/step\n",
      "1/1 [==============================] - 0s 15ms/step\n",
      "1/1 [==============================] - 0s 15ms/step\n",
      "1/1 [==============================] - 0s 15ms/step\n",
      "1/1 [==============================] - 0s 14ms/step\n",
      "1/1 [==============================] - 0s 16ms/step\n",
      "1/1 [==============================] - 0s 15ms/step\n",
      "1/1 [==============================] - 0s 15ms/step\n",
      "1/1 [==============================] - 0s 16ms/step\n",
      "1/1 [==============================] - 0s 15ms/step\n",
      "1/1 [==============================] - 0s 15ms/step\n",
      "1/1 [==============================] - 0s 16ms/step\n",
      "1/1 [==============================] - 0s 15ms/step\n",
      "1/1 [==============================] - 0s 16ms/step\n",
      "1/1 [==============================] - 0s 15ms/step\n",
      "1/1 [==============================] - 0s 17ms/step\n",
      "1/1 [==============================] - 0s 15ms/step\n",
      "1/1 [==============================] - 0s 15ms/step\n",
      "1/1 [==============================] - 0s 15ms/step\n",
      "1/1 [==============================] - 0s 15ms/step\n",
      "1/1 [==============================] - 0s 16ms/step\n"
     ]
    },
    {
     "name": "stderr",
     "output_type": "stream",
     "text": [
      "WARNING:imageio:Lossy conversion from float64 to uint8. Range [0.0, 254.99989360570908]. Convert image to uint8 prior to saving to suppress this warning.\n",
      "WARNING:imageio:Lossy conversion from float64 to uint8. Range [0.0, 255.0]. Convert image to uint8 prior to saving to suppress this warning.\n"
     ]
    },
    {
     "name": "stdout",
     "output_type": "stream",
     "text": [
      "1/1 [==============================] - 0s 16ms/step\n",
      "1/1 [==============================] - 0s 15ms/step\n",
      "1/1 [==============================] - 0s 15ms/step\n",
      "1/1 [==============================] - 0s 15ms/step\n",
      "1/1 [==============================] - 0s 15ms/step\n",
      "1/1 [==============================] - 0s 15ms/step\n",
      "1/1 [==============================] - 0s 16ms/step\n",
      "1/1 [==============================] - 0s 16ms/step\n",
      "1/1 [==============================] - 0s 15ms/step\n",
      "1/1 [==============================] - 0s 16ms/step\n",
      "1/1 [==============================] - 0s 16ms/step\n",
      "1/1 [==============================] - 0s 16ms/step\n",
      "1/1 [==============================] - 0s 15ms/step\n",
      "1/1 [==============================] - 0s 15ms/step\n",
      "1/1 [==============================] - 0s 16ms/step\n",
      "1/1 [==============================] - 0s 15ms/step\n",
      "1/1 [==============================] - 0s 16ms/step\n",
      "1/1 [==============================] - 0s 16ms/step\n",
      "1/1 [==============================] - 0s 16ms/step\n",
      "1/1 [==============================] - 0s 15ms/step\n",
      "1/1 [==============================] - 0s 16ms/step\n",
      "1/1 [==============================] - 0s 16ms/step\n",
      "1/1 [==============================] - 0s 16ms/step\n",
      "1/1 [==============================] - 0s 16ms/step\n",
      "1/1 [==============================] - 0s 15ms/step\n",
      "1/1 [==============================] - 0s 16ms/step\n",
      "1/1 [==============================] - 0s 16ms/step\n",
      "1/1 [==============================] - 0s 16ms/step\n",
      "1/1 [==============================] - 0s 16ms/step\n",
      "1/1 [==============================] - 0s 16ms/step\n",
      "1/1 [==============================] - 0s 16ms/step\n",
      "1/1 [==============================] - 0s 16ms/step\n",
      "1/1 [==============================] - 0s 15ms/step\n",
      "1/1 [==============================] - 0s 16ms/step\n",
      "1/1 [==============================] - 0s 16ms/step\n",
      "1/1 [==============================] - 0s 16ms/step\n",
      "1/1 [==============================] - 0s 15ms/step\n",
      "1/1 [==============================] - 0s 16ms/step\n",
      "1/1 [==============================] - 0s 17ms/step\n",
      "1/1 [==============================] - 0s 16ms/step\n",
      "1/1 [==============================] - 0s 16ms/step\n",
      "1/1 [==============================] - 0s 16ms/step\n",
      "1/1 [==============================] - 0s 16ms/step\n",
      "1/1 [==============================] - 0s 15ms/step\n",
      "1/1 [==============================] - 0s 15ms/step\n",
      "1/1 [==============================] - 0s 16ms/step\n",
      "1/1 [==============================] - 0s 15ms/step\n",
      "1/1 [==============================] - 0s 17ms/step\n",
      "1/1 [==============================] - 0s 16ms/step\n",
      "1/1 [==============================] - 0s 16ms/step\n",
      "1/1 [==============================] - 0s 16ms/step\n",
      "1/1 [==============================] - 0s 15ms/step\n",
      "1/1 [==============================] - 0s 16ms/step\n",
      "1/1 [==============================] - 0s 15ms/step\n",
      "1/1 [==============================] - 0s 16ms/step\n",
      "1/1 [==============================] - 0s 16ms/step\n",
      "1/1 [==============================] - 0s 15ms/step\n",
      "1/1 [==============================] - 0s 16ms/step\n",
      "1/1 [==============================] - 0s 16ms/step\n",
      "1/1 [==============================] - 0s 16ms/step\n",
      "1/1 [==============================] - 0s 16ms/step\n",
      "1/1 [==============================] - 0s 16ms/step\n",
      "1/1 [==============================] - 0s 16ms/step\n",
      "1/1 [==============================] - 0s 16ms/step\n"
     ]
    },
    {
     "name": "stderr",
     "output_type": "stream",
     "text": [
      "WARNING:imageio:Lossy conversion from float64 to uint8. Range [0.0, 255.0]. Convert image to uint8 prior to saving to suppress this warning.\n",
      "WARNING:imageio:Lossy conversion from float64 to uint8. Range [0.0, 255.0]. Convert image to uint8 prior to saving to suppress this warning.\n"
     ]
    },
    {
     "name": "stdout",
     "output_type": "stream",
     "text": [
      "1/1 [==============================] - 0s 15ms/step\n",
      "1/1 [==============================] - 0s 16ms/step\n",
      "1/1 [==============================] - 0s 16ms/step\n",
      "1/1 [==============================] - 0s 15ms/step\n",
      "1/1 [==============================] - 0s 17ms/step\n",
      "1/1 [==============================] - 0s 15ms/step\n",
      "1/1 [==============================] - 0s 15ms/step\n",
      "1/1 [==============================] - 0s 16ms/step\n",
      "1/1 [==============================] - 0s 15ms/step\n",
      "1/1 [==============================] - 0s 16ms/step\n",
      "1/1 [==============================] - 0s 15ms/step\n",
      "1/1 [==============================] - 0s 16ms/step\n",
      "1/1 [==============================] - 0s 15ms/step\n",
      "1/1 [==============================] - 0s 16ms/step\n",
      "1/1 [==============================] - 0s 15ms/step\n",
      "1/1 [==============================] - 0s 16ms/step\n",
      "1/1 [==============================] - 0s 15ms/step\n",
      "1/1 [==============================] - 0s 15ms/step\n",
      "1/1 [==============================] - 0s 16ms/step\n",
      "1/1 [==============================] - 0s 15ms/step\n",
      "1/1 [==============================] - 0s 16ms/step\n",
      "1/1 [==============================] - 0s 18ms/step\n",
      "1/1 [==============================] - 0s 15ms/step\n",
      "1/1 [==============================] - 0s 16ms/step\n",
      "1/1 [==============================] - 0s 17ms/step\n",
      "1/1 [==============================] - 0s 15ms/step\n",
      "1/1 [==============================] - 0s 16ms/step\n",
      "1/1 [==============================] - 0s 15ms/step\n",
      "1/1 [==============================] - 0s 16ms/step\n",
      "1/1 [==============================] - 0s 14ms/step\n",
      "1/1 [==============================] - 0s 16ms/step\n",
      "1/1 [==============================] - 0s 18ms/step\n",
      "1/1 [==============================] - 0s 15ms/step\n",
      "1/1 [==============================] - 0s 16ms/step\n",
      "1/1 [==============================] - 0s 16ms/step\n",
      "1/1 [==============================] - 0s 16ms/step\n",
      "1/1 [==============================] - 0s 16ms/step\n",
      "1/1 [==============================] - 0s 15ms/step\n",
      "1/1 [==============================] - 0s 15ms/step\n",
      "1/1 [==============================] - 0s 16ms/step\n",
      "1/1 [==============================] - 0s 15ms/step\n",
      "1/1 [==============================] - 0s 15ms/step\n",
      "1/1 [==============================] - 0s 16ms/step\n",
      "1/1 [==============================] - 0s 16ms/step\n",
      "1/1 [==============================] - 0s 16ms/step\n",
      "1/1 [==============================] - 0s 16ms/step\n",
      "1/1 [==============================] - 0s 16ms/step\n",
      "1/1 [==============================] - 0s 22ms/step\n",
      "1/1 [==============================] - 0s 15ms/step\n",
      "1/1 [==============================] - 0s 16ms/step\n",
      "1/1 [==============================] - 0s 16ms/step\n",
      "1/1 [==============================] - 0s 15ms/step\n",
      "1/1 [==============================] - 0s 16ms/step\n",
      "1/1 [==============================] - 0s 16ms/step\n",
      "1/1 [==============================] - 0s 15ms/step\n",
      "1/1 [==============================] - 0s 15ms/step\n",
      "1/1 [==============================] - 0s 16ms/step\n",
      "1/1 [==============================] - 0s 15ms/step\n",
      "1/1 [==============================] - 0s 15ms/step\n",
      "1/1 [==============================] - 0s 16ms/step\n",
      "1/1 [==============================] - 0s 21ms/step\n",
      "1/1 [==============================] - 0s 15ms/step\n",
      "1/1 [==============================] - 0s 21ms/step\n",
      "1/1 [==============================] - 0s 16ms/step\n"
     ]
    },
    {
     "name": "stderr",
     "output_type": "stream",
     "text": [
      "WARNING:imageio:Lossy conversion from float64 to uint8. Range [0.0, 255.0]. Convert image to uint8 prior to saving to suppress this warning.\n",
      "WARNING:imageio:Lossy conversion from float64 to uint8. Range [0.0, 255.0]. Convert image to uint8 prior to saving to suppress this warning.\n"
     ]
    },
    {
     "name": "stdout",
     "output_type": "stream",
     "text": [
      "1/1 [==============================] - 0s 16ms/step\n",
      "1/1 [==============================] - 0s 15ms/step\n",
      "1/1 [==============================] - 0s 15ms/step\n",
      "1/1 [==============================] - 0s 16ms/step\n",
      "1/1 [==============================] - 0s 15ms/step\n",
      "1/1 [==============================] - 0s 15ms/step\n",
      "1/1 [==============================] - 0s 15ms/step\n",
      "1/1 [==============================] - 0s 16ms/step\n",
      "1/1 [==============================] - 0s 16ms/step\n",
      "1/1 [==============================] - 0s 15ms/step\n",
      "1/1 [==============================] - 0s 15ms/step\n",
      "1/1 [==============================] - 0s 15ms/step\n",
      "1/1 [==============================] - 0s 15ms/step\n",
      "1/1 [==============================] - 0s 15ms/step\n",
      "1/1 [==============================] - 0s 15ms/step\n",
      "1/1 [==============================] - 0s 17ms/step\n",
      "1/1 [==============================] - 0s 16ms/step\n",
      "1/1 [==============================] - 0s 15ms/step\n",
      "1/1 [==============================] - 0s 15ms/step\n",
      "1/1 [==============================] - 0s 16ms/step\n",
      "1/1 [==============================] - 0s 16ms/step\n",
      "1/1 [==============================] - 0s 15ms/step\n",
      "1/1 [==============================] - 0s 17ms/step\n",
      "1/1 [==============================] - 0s 15ms/step\n",
      "1/1 [==============================] - 0s 16ms/step\n",
      "1/1 [==============================] - 0s 15ms/step\n",
      "1/1 [==============================] - 0s 15ms/step\n",
      "1/1 [==============================] - 0s 16ms/step\n",
      "1/1 [==============================] - 0s 15ms/step\n",
      "1/1 [==============================] - 0s 15ms/step\n",
      "1/1 [==============================] - 0s 15ms/step\n",
      "1/1 [==============================] - 0s 15ms/step\n",
      "1/1 [==============================] - 0s 15ms/step\n",
      "1/1 [==============================] - 0s 15ms/step\n",
      "1/1 [==============================] - 0s 17ms/step\n",
      "1/1 [==============================] - 0s 16ms/step\n",
      "1/1 [==============================] - 0s 16ms/step\n",
      "1/1 [==============================] - 0s 17ms/step\n",
      "1/1 [==============================] - 0s 22ms/step\n",
      "1/1 [==============================] - 0s 17ms/step\n",
      "1/1 [==============================] - 0s 15ms/step\n",
      "1/1 [==============================] - 0s 16ms/step\n",
      "1/1 [==============================] - 0s 15ms/step\n",
      "1/1 [==============================] - 0s 17ms/step\n",
      "1/1 [==============================] - 0s 16ms/step\n",
      "1/1 [==============================] - 0s 16ms/step\n",
      "1/1 [==============================] - 0s 15ms/step\n",
      "1/1 [==============================] - 0s 16ms/step\n",
      "1/1 [==============================] - 0s 17ms/step\n",
      "1/1 [==============================] - 0s 17ms/step\n",
      "1/1 [==============================] - 0s 15ms/step\n",
      "1/1 [==============================] - 0s 17ms/step\n",
      "1/1 [==============================] - 0s 17ms/step\n",
      "1/1 [==============================] - 0s 16ms/step\n",
      "1/1 [==============================] - 0s 16ms/step\n",
      "1/1 [==============================] - 0s 17ms/step\n",
      "1/1 [==============================] - 0s 16ms/step\n",
      "1/1 [==============================] - 0s 15ms/step\n",
      "1/1 [==============================] - 0s 19ms/step\n",
      "1/1 [==============================] - 0s 17ms/step\n",
      "1/1 [==============================] - 0s 16ms/step\n",
      "1/1 [==============================] - 0s 19ms/step\n",
      "1/1 [==============================] - 0s 16ms/step\n",
      "1/1 [==============================] - 0s 15ms/step\n"
     ]
    },
    {
     "name": "stderr",
     "output_type": "stream",
     "text": [
      "WARNING:imageio:Lossy conversion from float64 to uint8. Range [0.0, 255.0]. Convert image to uint8 prior to saving to suppress this warning.\n"
     ]
    }
   ],
   "source": [
    "if not os.path.exists('samples'):\n",
    "    os.mkdir('samples')\n",
    "\n",
    "for i in range(10):\n",
    "    cluster_sample(u'samples/聚类类别_%s.png' % i, i)\n",
    "    random_sample(u'samples/类别采样_%s.png' % i, i)"
   ]
  },
  {
   "cell_type": "code",
   "execution_count": 62,
   "metadata": {
    "colab": {
     "base_uri": "https://localhost:8080/"
    },
    "id": "yZljLFz3EA46",
    "outputId": "c4a5b46a-a001-4443-b73d-2cb74a233f4c"
   },
   "outputs": [
    {
     "name": "stdout",
     "output_type": "stream",
     "text": [
      "train acc: 0.27618333333333334\n",
      "test acc: 0.2861\n"
     ]
    }
   ],
   "source": [
    "right = 0.\n",
    "for i in range(10):\n",
    "    _ = np.bincount(y_train[y_train_pred == i])\n",
    "    right += _.max()\n",
    "\n",
    "print (f'train acc: {right / len(y_train)}')\n",
    "\n",
    "\n",
    "right = 0.\n",
    "for i in range(10):\n",
    "    _ = np.bincount(y_test[y_test_pred == i])\n",
    "    right += _.max()\n",
    "\n",
    "print (f'test acc: {right / len(y_test)}')"
   ]
  },
  {
   "cell_type": "code",
   "execution_count": null,
   "metadata": {},
   "outputs": [],
   "source": []
  }
 ],
 "metadata": {
  "accelerator": "GPU",
  "colab": {
   "provenance": []
  },
  "gpuClass": "standard",
  "kernelspec": {
   "display_name": "Python 3 (ipykernel)",
   "language": "python",
   "name": "python3"
  },
  "language_info": {
   "codemirror_mode": {
    "name": "ipython",
    "version": 3
   },
   "file_extension": ".py",
   "mimetype": "text/x-python",
   "name": "python",
   "nbconvert_exporter": "python",
   "pygments_lexer": "ipython3",
   "version": "3.10.9"
  }
 },
 "nbformat": 4,
 "nbformat_minor": 1
}
